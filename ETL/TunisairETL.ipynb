{
 "cells": [
  {
   "cell_type": "markdown",
   "metadata": {},
   "source": [
    "Extraction des données"
   ]
  },
  {
   "cell_type": "code",
   "execution_count": 208,
   "metadata": {},
   "outputs": [
    {
     "name": "stdout",
     "output_type": "stream",
     "text": [
      " Flight_ID  Flight_Number Departure_Station Arrival_Station       Date  Jour  Mois  Année Scheduled_Departure Actual_Departure Scheduled_Arrival Actual_Arrival  Delay_Minute        Delay_Reason  Cancelled  Diverted AircraftType TailNumber  Distance  Passengers_Number_economy  Passengers_Number_PREMeconomy  Passengers_Number_Business  Passengers_Number_FirstClass ID_FlightType\n",
      "         1           4558               CMN             TUN 2023-01-01     1     1   2023               08:00            08:25             12:11          12:19             8             Weather       True     False   Boeing 737     N71066      1031                         65                             24                           7                             4            F1\n",
      "         2           8021               MXP             TUN 2023-01-01     1     1   2023               10:25            10:41             13:25          13:27             2 Air Traffic Control       True      True  Airbus A320     N22657      1006                         27                              5                          13                             6            F2\n",
      "         3           7520               TUN             IST 2023-01-01     1     1   2023               16:53            17:05             17:53          18:07            14             Weather       True      True   Boeing 737     N95611      2980                         63                             23                           8                             7            F3\n",
      "         4           2046               DJE             NTE 2023-01-01     1     1   2023               14:44            15:04             18:44          18:34           -10                 NaN      False     False   Boeing 777     N90029      1408                         53                             25                          10                             7            F4\n",
      "         5           6049               TUN             ALG 2023-01-01     1     1   2023               01:51            02:08             05:51          06:15            24 Air Traffic Control      False      True   Boeing 737     N27417      2298                        124                              6                          15                             1            F5\n"
     ]
    }
   ],
   "source": [
    "import pandas as pd\n",
    "\n",
    "# Lire le fichier Excel \"DataSet Tunisiar\"\n",
    "excel_data_Tunisair = pd.read_excel(r'C:\\Users\\USER\\OneDrive\\Desktop\\Projet ED\\DataSet Tunisiar.xlsx')\n",
    "\n",
    "# Afficher les premières lignes\n",
    "print(excel_data_Tunisair.head().to_string(index=False))"
   ]
  },
  {
   "cell_type": "code",
   "execution_count": 209,
   "metadata": {},
   "outputs": [
    {
     "name": "stdout",
     "output_type": "stream",
     "text": [
      "ID_FlightType   Flight_Type Flight_status\n",
      "           F1 International        Annulé\n",
      "           F2 International        Annulé\n",
      "           F3 International        Annulé\n",
      "           F4 International     à l heure\n",
      "           F5 International       Retardé\n"
     ]
    }
   ],
   "source": [
    "import pandas as pd\n",
    "\n",
    "# Lire le fichier Excel \"Type_Vols\"\n",
    "excel_data_TypeVols = pd.read_excel(r'C:\\Users\\USER\\OneDrive\\Desktop\\Projet ED\\Type_Vols.xlsx')\n",
    "\n",
    "# Afficher les premières lignes\n",
    "print(excel_data_TypeVols.head().to_string(index=False))"
   ]
  },
  {
   "cell_type": "code",
   "execution_count": 210,
   "metadata": {},
   "outputs": [
    {
     "name": "stdout",
     "output_type": "stream",
     "text": [
      "Index(['airports'], dtype='object')\n",
      "                                                                                          airports\n",
      "     {'Code': 'TBJ', 'Airport_Name': 'Tabarka-Aïn Draham Airport', 'Airport_country': '  Tunisia'}\n",
      "    {'Code': 'KRT', 'Airport_Name': 'Khartoum International Airport', 'Airport_country': ' Sudan'}\n",
      "                    {'Code': 'LIL', 'Airport_Name': 'Lille Airport', 'Airport_country': ' France'}\n",
      "{'Code': 'CMN', 'Airport_Name': 'airoport Mohammed V de Casablanca', 'Airport_country': ' Marroc'}\n",
      "        {'Code': 'MXP', 'Airport_Name': 'airoport de Milan Malpensa', 'Airport_country': 'Italie'}\n"
     ]
    }
   ],
   "source": [
    "import pandas as pd\n",
    "\n",
    "# Lire le fichier json \"Airports\"\n",
    "json_data_Airports = pd.read_json(r'C:\\Users\\USER\\OneDrive\\Desktop\\Projet ED\\Airports.json')\n",
    "print(json_data_Airports.columns)\n",
    "\n",
    "# Afficher les premières lignes\n",
    "print(json_data_Airports.head().to_string(index=False))"
   ]
  },
  {
   "cell_type": "code",
   "execution_count": null,
   "metadata": {},
   "outputs": [],
   "source": [
    "pip install pyodbc"
   ]
  },
  {
   "cell_type": "code",
   "execution_count": 211,
   "metadata": {},
   "outputs": [
    {
     "name": "stdout",
     "output_type": "stream",
     "text": [
      "Connexion réussie à la base de données Access.\n",
      "(1.0, 'CMN', 377.0, 395.0, 410.0, 478.0)\n",
      "(2.0, 'MXP', 407.0, 476.0, 510.0, 590.0)\n",
      "(3.0, 'TLS', 612.0, 688.0, 720.0, 800.0)\n",
      "(4.0, 'IST', 665.0, 700.0, 759.0, 810.0)\n",
      "(5.0, 'ORY', 479.0, 500.0, 566.0, 602.0)\n",
      "(6.0, 'BRU', 487.0, 521.0, 598.0, 623.0)\n",
      "(7.0, 'ABJ', 820.0, 875.0, 900.0, 978.0)\n",
      "(8.0, 'VCE', 402.0, 472.0, 540.0, 596.0)\n",
      "(9.0, 'AMS', 562.0, 570.0, 622.0, 697.0)\n",
      "(10.0, 'FRA', 605.0, 678.0, 874.0, 920.0)\n",
      "(11.0, 'BCN', 505.0, 546.0, 608.0, 686.0)\n",
      "(12.0, 'JED', 814.0, 879.0, 960.0, 1060.0)\n",
      "(13.0, 'ALG', 292.0, 339.0, 400.0, 4459.0)\n",
      "(14.0, 'LIS', 734.0, 802.0, 910.0, 1010.0)\n",
      "(15.0, 'SXB', 701.0, 786.0, 875.0, 960.0)\n",
      "(16.0, 'LYS', 459.0, 502.0, 600.0, 706.0)\n",
      "(17.0, 'OUA', 1087.0, 1189.0, 1400.0, 1689.0)\n",
      "(18.0, 'LGW', 758.0, 805.0, 866.0, 974.0)\n",
      "(19.0, 'BEY', 781.0, 806.0, 899.0, 958.0)\n",
      "(20.0, 'NCE', 572.0, 611.0, 698.0, 724.0)\n",
      "(21.0, 'OPO', 714.0, 788.0, 865.0, 905.0)\n",
      "(22.0, 'MRS', 547.0, 599.0, 642.0, 703.0)\n",
      "(23.0, 'DUS', 569.0, 602.0, 698.0, 733.0)\n",
      "(24.0, 'FCO', 264.0, 299.0, 368.0, 419.0)\n",
      "(25.0, 'CDG', 493.0, 577.0, 642.0, 732.0)\n",
      "(26.0, 'NKC', 714.0, 788.0, 852.0, 926.0)\n",
      "(27.0, 'NTE', 622.0, 708.0, 799.0, 876.0)\n",
      "(28.0, 'ZRH', 722.0, 785.0, 862.0, 917.0)\n",
      "(29.0, 'GVA', 914.0, 1214.0, 258.0, 730.0)\n",
      "(30.0, 'OUD', 890.0, 982.0, 690.0, 838.0)\n",
      "(31.0, 'MUC', 913.0, 526.0, 745.0, 763.0)\n",
      "(32.0, 'SXF', 955.0, 390.0, 1201.0, 341.0)\n",
      "(33.0, 'HAM', 1174.0, 594.0, 753.0, 476.0)\n",
      "(34.0, 'NDR', 789.0, 963.0, 953.0, 986.0)\n",
      "(35.0, 'CAI', 422.0, 1112.0, 1234.0, 927.0)\n",
      "(36.0, 'BEG', 1283.0, 744.0, 724.0, 759.0)\n",
      "(37.0, 'VIE', 580.0, 298.0, 686.0, 845.0)\n",
      "(38.0, 'ORN', 1028.0, 706.0, 501.0, 356.0)\n",
      "(39.0, 'MAD', 278.0, 949.0, 325.0, 782.0)\n",
      "(40.0, 'TOE', 1155.0, 511.0, 655.0, 545.0)\n",
      "(41.0, 'BKO', 846.0, 1257.0, 529.0, 339.0)\n",
      "(42.0, 'DKR', 1059.0, 858.0, 480.0, 1084.0)\n",
      "(43.0, 'KGL', 1058.0, 817.0, 676.0, 1169.0)\n",
      "(44.0, 'BLQ', 1045.0, 1074.0, 1119.0, 589.0)\n",
      "(45.0, 'MLA', 315.0, 1146.0, 709.0, 324.0)\n",
      "(46.0, 'AHU', 724.0, 1274.0, 1291.0, 825.0)\n",
      "(47.0, 'LHR', 1055.0, 1234.0, 343.0, 1116.0)\n",
      "(48.0, 'BOD', 321.0, 650.0, 686.0, 531.0)\n",
      "(49.0, 'PRG', 765.0, 742.0, 891.0, 820.0)\n",
      "(50.0, 'LJU', 775.0, 353.0, 1293.0, 620.0)\n",
      "(51.0, 'SVO', 1026.0, 1018.0, 731.0, 1194.0)\n",
      "(52.0, 'MED', 836.0, 1278.0, 496.0, 927.0)\n",
      "(53.0, 'BUD', 697.0, 1236.0, 374.0, 1139.0)\n",
      "(54.0, 'ARN', 834.0, 1283.0, 1001.0, 1034.0)\n",
      "(55.0, 'CPH', 739.0, 515.0, 1072.0, 1133.0)\n",
      "(56.0, 'CRL', 289.0, 641.0, 1110.0, 1149.0)\n",
      "(57.0, 'OST', 1188.0, 304.0, 687.0, 1158.0)\n",
      "(58.0, 'TNG', 396.0, 634.0, 330.0, 1141.0)\n",
      "(59.0, 'NAP', 745.0, 520.0, 1111.0, 593.0)\n",
      "(60.0, 'BRQ', 792.0, 1011.0, 967.0, 256.0)\n",
      "(61.0, 'OSR', 346.0, 1062.0, 806.0, 375.0)\n",
      "(62.0, 'YUL', 612.0, 1248.0, 349.0, 1140.0)\n",
      "(63.0, 'NIM', 418.0, 435.0, 903.0, 703.0)\n",
      "(64.0, 'TMR', 484.0, 678.0, 687.0, 570.0)\n",
      "(65.0, 'JIB', 638.0, 1167.0, 1137.0, 471.0)\n",
      "(66.0, 'CGN', 410.0, 1161.0, 391.0, 998.0)\n",
      "(67.0, 'EBL', 962.0, 548.0, 296.0, 1230.0)\n",
      "(68.0, 'BJA', 1116.0, 260.0, 1262.0, 863.0)\n",
      "(69.0, 'AYT', 1038.0, 1074.0, 1144.0, 718.0)\n",
      "(70.0, 'RAK', 1064.0, 368.0, 1268.0, 394.0)\n",
      "(71.0, 'LFW', 1275.0, 1267.0, 764.0, 1252.0)\n",
      "(72.0, 'DJE', 181.0, 209.0, 295.0, 307.0)\n",
      "(73.0, 'SFA', 120.0, 185.0, 203.0, 243.0)\n",
      "(74.0, 'NBE', 110.0, 122.0, 168.0, 192.0)\n",
      "(75.0, 'GAF', 158.0, 176.0, 203.0, 261.0)\n",
      "(76.0, 'GAE', 142.0, 185.0, 203.0, 225.0)\n",
      "(77.0, 'TUN', 140.0, 184.0, 205.0, 246.0)\n",
      "(78.0, 'MIR', 142.0, 178.0, 199.0, 218.0)\n",
      "(79.0, 'TOE', 187.0, 206.0, 285.0, 349.0)\n",
      "(80.0, 'TBJ', 122.0, 183.0, 236.0, 287.0)\n",
      "(81.0, 'LIL', 356.0, 388.0, 458.0, 609.0)\n",
      "(82.0, 'PSA', 412.0, 487.0, 569.0, 614.0)\n",
      "(83.0, 'KRT', 330.0, 398.0, 472.0, 564.0)\n"
     ]
    }
   ],
   "source": [
    "import pyodbc\n",
    "\n",
    "# Chemin vers le fichier Access\n",
    "db_path = r\"C:\\Users\\USER\\OneDrive\\Desktop\\Projet ED\\DB_Type_Classe.accdb\"\n",
    "\n",
    "# Chaîne de connexion (Microsoft Access ODBC Driver)\n",
    "conn_str = (\n",
    "    r\"DRIVER={Microsoft Access Driver (*.mdb, *.accdb)};\"\n",
    "    f\"DBQ={db_path};\"\n",
    ")\n",
    "\n",
    "# Connexion à la base de données\n",
    "conn_Access = pyodbc.connect(conn_str)\n",
    "print(\"Connexion réussie à la base de données Access.\")\n",
    "    \n",
    "# Créer un curseur\n",
    "cursor_classes = conn_Access.cursor()\n",
    "\n",
    "# Lire les données depuis une table\n",
    "table_name = \"prices\"  \n",
    "query = f\"SELECT * FROM {table_name}\"\n",
    "cursor_classes.execute(query)\n",
    "\n",
    "# Afficher les résultats\n",
    "#La méthode fetchall() est utilisée pour récupérer toutes les lignes d'un résultat de requête SQL sous forme de liste\n",
    "for row in cursor_classes.fetchall():\n",
    "    print(row)\n"
   ]
  },
  {
   "cell_type": "markdown",
   "metadata": {},
   "source": [
    "Transformation des données"
   ]
  },
  {
   "cell_type": "markdown",
   "metadata": {},
   "source": [
    "Filtation des colonnes inutiles"
   ]
  },
  {
   "cell_type": "code",
   "execution_count": 212,
   "metadata": {},
   "outputs": [
    {
     "name": "stdout",
     "output_type": "stream",
     "text": [
      "filtration terminée. Les données modifiées ont été sauvegardées dans 'DataSet Tunisiar.xlsx'.\n",
      " Flight_ID  Flight_Number Departure_Station Arrival_Station       Date  Jour  Mois  Année Scheduled_Departure Scheduled_Arrival  Delay_Minute        Delay_Reason  Passengers_Number_economy  Passengers_Number_PREMeconomy  Passengers_Number_Business  Passengers_Number_FirstClass ID_FlightType\n",
      "         1           4558               CMN             TUN 2023-01-01     1     1   2023               08:00             12:11             8             Weather                         65                             24                           7                             4            F1\n",
      "         2           8021               MXP             TUN 2023-01-01     1     1   2023               10:25             13:25             2 Air Traffic Control                         27                              5                          13                             6            F2\n",
      "         3           7520               TUN             IST 2023-01-01     1     1   2023               16:53             17:53            14             Weather                         63                             23                           8                             7            F3\n",
      "         4           2046               DJE             NTE 2023-01-01     1     1   2023               14:44             18:44           -10                 NaN                         53                             25                          10                             7            F4\n",
      "         5           6049               TUN             ALG 2023-01-01     1     1   2023               01:51             05:51            24 Air Traffic Control                        124                              6                          15                             1            F5\n"
     ]
    }
   ],
   "source": [
    "import pandas as pd\n",
    "\n",
    "# Colonnes à supprimer\n",
    "colonnes_a_supprimer = [\n",
    "    'Actual_Departure', 'Actual_Arrival',\n",
    "    'Cancelled', 'Diverted', 'AircraftType', 'TailNumber', 'Distance'\n",
    "]\n",
    "\n",
    "# Vérifier si les colonnes à supprimer existent dans le DataFrame avant de les supprimer\n",
    "colonnes_existantes = [col for col in colonnes_a_supprimer if col in excel_data_Tunisair.columns]\n",
    "if colonnes_existantes:\n",
    "    excel_data_Tunisair = excel_data_Tunisair.drop(columns=colonnes_existantes)\n",
    "    print(f\"filtration terminée. Les données modifiées ont été sauvegardées dans 'DataSet Tunisiar.xlsx'.\")\n",
    "else:\n",
    "    print(\"Aucune des colonnes spécifiées n'existe dans le DataFrame.\")\n",
    "\n",
    "# Afficher les premières lignes après suppression\n",
    "print(excel_data_Tunisair.head().to_string(index=False))"
   ]
  },
  {
   "cell_type": "markdown",
   "metadata": {},
   "source": [
    "Filtration des lignes dans le fichier DataSet Tunisair\n",
    "\n",
    "conservation des lignes dont les aéroports de départ sont situées en Tunisie"
   ]
  },
  {
   "cell_type": "code",
   "execution_count": 213,
   "metadata": {},
   "outputs": [
    {
     "name": "stdout",
     "output_type": "stream",
     "text": [
      "filtartion terminée. Les données modifiées ont été sauvegardées dans 'DataSet Tunisiar.xlsx'.\n"
     ]
    }
   ],
   "source": [
    "import pandas as pd\n",
    "stations_Deaprt_autorisees = ['TUN', 'DJE', 'SFA', 'NBE', 'GAF', 'GAE','MIR','TBJ','TOE']\n",
    " \n",
    "#conservation des lignes dont les stations de départ se trouvent dans la Tunisie\n",
    "if ('Departure_Station' in excel_data_Tunisair.columns):\n",
    "  excel_data_Tunisair = excel_data_Tunisair[excel_data_Tunisair['Departure_Station'].isin(stations_Deaprt_autorisees)]\n",
    "  #La méthode isin produit une série booléenne où chaque ligne est marquée comme True si la valeur de Departure_Station est dans la liste stations_autorisees.\n",
    "  #sélectionne uniquement les lignes où la condition est True\n",
    "  print(f\"filtartion terminée. Les données modifiées ont été sauvegardées dans 'DataSet Tunisiar.xlsx'.\")\n",
    "\n",
    "else:\n",
    "  raise ValueError(\"La colonne 'Departure_Station' n'existe pas dans le fichier DataSet Tunisair.\")"
   ]
  },
  {
   "cell_type": "markdown",
   "metadata": {},
   "source": [
    "Filtration des lignes dans le fichier Type_Vols\n",
    "\n",
    "conservation des lignes dont les aéroports de départ sont situées en Tunisie"
   ]
  },
  {
   "cell_type": "code",
   "execution_count": 214,
   "metadata": {},
   "outputs": [
    {
     "name": "stdout",
     "output_type": "stream",
     "text": [
      "Filtration terminée. Les données modifiées ont été sauvegardées dans 'excel_data_TypeVols.xlsx'.\n"
     ]
    }
   ],
   "source": [
    "import pandas as pd\n",
    "#conservation des lignes dont les stations de départ se trouvent dans la Tunisie\n",
    "#ID_conservés est la liste des identifiants uniques (ID_flight) des lignes du fichier DataSet Tunisair qui ont été conservées après le filtrage\n",
    "ID_conservés = excel_data_Tunisair['ID_FlightType']\n",
    "\n",
    "# Filtrer le fichier Types_vols pour ne garder que les lignes avec des ID_flight présents dans DataSet Tunisair\n",
    "if 'ID_FlightType' in excel_data_TypeVols.columns:\n",
    "  excel_data_TypeVols = excel_data_TypeVols[excel_data_TypeVols['ID_FlightType'].isin(ID_conservés)]\n",
    "  print(f\"Filtration terminée. Les données modifiées ont été sauvegardées dans 'excel_data_TypeVols.xlsx'.\")\n",
    "\n",
    "else:\n",
    "  raise ValueError(\"La colonne 'ID_FlightType' n'existe pas dans le fichier Type_Vols.\")"
   ]
  },
  {
   "cell_type": "markdown",
   "metadata": {},
   "source": [
    "Vérification de l'unicité de \"Flight_ID\" de fichier DataSet Tunisair"
   ]
  },
  {
   "cell_type": "code",
   "execution_count": 215,
   "metadata": {},
   "outputs": [
    {
     "name": "stdout",
     "output_type": "stream",
     "text": [
      "Toutes les valeurs dans la colonne 'Flight_ID' sont uniques.\n"
     ]
    }
   ],
   "source": [
    "# Vérifier si la colonne 'Flight_ID' contient des valeurs uniques\n",
    "if excel_data_Tunisair['Flight_ID'].duplicated().any():\n",
    "    print(\"Il y a des valeurs en double dans la colonne 'Flight_ID'.\")\n",
    "    # Afficher les valeurs en double\n",
    "    duplicates = excel_data_Tunisair[excel_data_Tunisair['Flight_ID'].duplicated()]\n",
    "    print(\"Valeurs en double :\")\n",
    "    print(duplicates[['Flight_ID']])\n",
    "else:\n",
    "    print(\"Toutes les valeurs dans la colonne 'Flight_ID' sont uniques.\")"
   ]
  },
  {
   "cell_type": "markdown",
   "metadata": {},
   "source": [
    "Vérification de l'unicité de \"ID_FlightType\" de fichier Type_Vols"
   ]
  },
  {
   "cell_type": "code",
   "execution_count": 216,
   "metadata": {},
   "outputs": [
    {
     "name": "stdout",
     "output_type": "stream",
     "text": [
      "Toutes les valeurs dans la colonne 'ID_FlightType' sont uniques.\n"
     ]
    }
   ],
   "source": [
    "# Vérifier si la colonne 'Flight_ID' contient des valeurs uniques\n",
    "if excel_data_TypeVols['ID_FlightType'].duplicated().any():\n",
    "    print(\"Il y a des valeurs en double dans la colonne 'ID_FlightType'.\")\n",
    "    # Afficher les valeurs en double\n",
    "    duplicates = excel_data_TypeVols[excel_data_TypeVols['ID_FlightType'].duplicated()]\n",
    "    print(\"Valeurs en double :\")\n",
    "    print(duplicates[['ID_FlightType']])\n",
    "else:\n",
    "    print(\"Toutes les valeurs dans la colonne 'ID_FlightType' sont uniques.\")"
   ]
  },
  {
   "cell_type": "markdown",
   "metadata": {},
   "source": [
    "Vérification de validité de la colonne \"Date\""
   ]
  },
  {
   "cell_type": "code",
   "execution_count": 217,
   "metadata": {},
   "outputs": [
    {
     "name": "stdout",
     "output_type": "stream",
     "text": [
      "Toutes les dates sont valides et dans l'année 2023.\n"
     ]
    }
   ],
   "source": [
    "import pandas as pd\n",
    "# Vérifier qu'il n'y a pas de valeurs NaT (dates invalides)\n",
    "if excel_data_Tunisair['Date'].isnull().any():\n",
    "    print(\"Il y a des dates invalides (NaT) dans la colonne 'Date'.\")\n",
    "    # Récupérer les FlightID des lignes où Date est NaT\n",
    "    invalid_flight_ids_Date = excel_data_Tunisair.loc[excel_data_Tunisair[\"Date\"].isnull(), \"FlightID\"]\n",
    "else:\n",
    "    # Vérifier que toutes les dates sont dans l'année 2023\n",
    "    if (excel_data_Tunisair['Date'].dt.year == 2023).all():\n",
    "        print(\"Toutes les dates sont valides et dans l'année 2023.\")\n",
    "    else:\n",
    "        print(\"Il y a des dates qui ne sont pas dans l'année 2023.\")\n",
    "        invalid_flight_ids_Year = excel_data_Tunisair.loc[excel_data_Tunisair['Date'].dt.year != 2023, \"FlightID\"]"
   ]
  },
  {
   "cell_type": "markdown",
   "metadata": {},
   "source": [
    "Conversion des colonnes \"Scheduled_Departure\" et \"Scheduled_Arrival\" en format datetime"
   ]
  },
  {
   "cell_type": "code",
   "execution_count": 218,
   "metadata": {},
   "outputs": [
    {
     "name": "stdout",
     "output_type": "stream",
     "text": [
      "Conversion terminée. Les données modifiées ont été sauvegardées dans 'DataSet Tunisair.xlsx'.\n"
     ]
    }
   ],
   "source": [
    "import pandas as pd\n",
    "# Nom des colonnes contenant les heures \n",
    "colonne_heure1 = 'Scheduled_Departure'  \n",
    "colonne_heure2 = 'Scheduled_Arrival'  \n",
    "\n",
    "format_heure = '%H:%M'\n",
    "# Vérifier si les colonnes existent\n",
    "if colonne_heure1 in excel_data_Tunisair.columns and colonne_heure2 in excel_data_Tunisair.columns:\n",
    "   \n",
    "    excel_data_Tunisair[colonne_heure1] = pd.to_datetime(excel_data_Tunisair[colonne_heure1], format=format_heure, errors='coerce').dt.strftime('%H:%M:%S')\n",
    "    excel_data_Tunisair[colonne_heure2] = pd.to_datetime(excel_data_Tunisair[colonne_heure2], format=format_heure, errors='coerce').dt.strftime('%H:%M:%S')\n",
    "\n",
    "    print(\"Conversion terminée. Les données modifiées ont été sauvegardées dans 'DataSet Tunisair.xlsx'.\")\n",
    "else:\n",
    "    print(f\"Erreur : Les colonnes '{colonne_heure1}' et '{colonne_heure2}' doivent être présentes dans le fichier Excel.\")"
   ]
  },
  {
   "cell_type": "markdown",
   "metadata": {},
   "source": [
    "Traitement sur la colonne \"Delay_Minute\""
   ]
  },
  {
   "cell_type": "code",
   "execution_count": 219,
   "metadata": {},
   "outputs": [
    {
     "name": "stdout",
     "output_type": "stream",
     "text": [
      "Conversion terminée. Les valeurs négatives de 'Delay Minute' ont été remplacées par 0.\n"
     ]
    }
   ],
   "source": [
    "import pandas as pd\n",
    "colonne_delay = 'Delay_Minute'  \n",
    "\n",
    "# Vérifier si la colonne existe\n",
    "if colonne_delay in excel_data_Tunisair.columns:\n",
    "    # Remplacer les valeurs négatives de la colonne Delay Minute par 0\n",
    "    excel_data_Tunisair[colonne_delay] = excel_data_Tunisair[colonne_delay].apply(lambda x: max(x, 0))\n",
    "    #apply() est une méthode qui permet d'appliquer une fonction sur chaque élément de la colonne\n",
    "    #ambda x définit une fonction anonyme qui prend un argument x, qui représente une valeur de la colonne pour chaque ligne\n",
    "    #La fonction max(x, 0) compare chaque valeur x à 0 : Si x est positif ou égal à zéro, la fonction retourne x , Si x est négatif, la fonction retourne 0\n",
    "\n",
    "    print(\"Conversion terminée. Les valeurs négatives de 'Delay Minute' ont été remplacées par 0.\")\n",
    "\n",
    "else:\n",
    "    print(f\"Erreur : La colonne '{colonne_delay}' n'existe pas dans le fichier Excel.\")"
   ]
  },
  {
   "cell_type": "markdown",
   "metadata": {},
   "source": [
    "Traitement sur la colonne \"Delay_Reason\""
   ]
  },
  {
   "cell_type": "code",
   "execution_count": 220,
   "metadata": {},
   "outputs": [
    {
     "name": "stdout",
     "output_type": "stream",
     "text": [
      "Les cases vides de la colonne 'Delay_Reason' ont été remplacées \n"
     ]
    }
   ],
   "source": [
    "import pandas as pd\n",
    "\n",
    "colonne_delay_reason = 'Delay_Reason'  \n",
    "\n",
    "# Vérifier si la colonne existe\n",
    "if colonne_delay_reason in excel_data_Tunisair.columns and colonne_delay in excel_data_Tunisair.columns:\n",
    "    # Remplacer les valeurs manquantes (NaN) de Delay_Reason avec une condition\n",
    "    excel_data_Tunisair[colonne_delay_reason] = excel_data_Tunisair.apply(\n",
    "        lambda row: 'No Delay' if pd.isna(row[colonne_delay_reason]) and row[colonne_delay] == 0\n",
    "        else ('No Reason' if pd.isna(row[colonne_delay_reason]) else row[colonne_delay_reason]), axis=1\n",
    "    )\n",
    "    #axis=1 indique que l'application de la fonction se fait ligne par ligne\n",
    "    #lambda row définit une fonction anonyme qui prend un argument row, représentant une ligne du DataFrame\n",
    "    #isna() renvoie True si la valeur est NaN\n",
    "\n",
    "    print(\"Les cases vides de la colonne 'Delay_Reason' ont été remplacées \")\n",
    "else:\n",
    "    print(f\"Erreur : La colonne '{colonne_delay_reason}' n'existe pas dans le fichier Excel.\")"
   ]
  },
  {
   "cell_type": "markdown",
   "metadata": {},
   "source": [
    "Chargement des données "
   ]
  },
  {
   "cell_type": "markdown",
   "metadata": {},
   "source": [
    "Connexion au serveur"
   ]
  },
  {
   "cell_type": "code",
   "execution_count": 222,
   "metadata": {},
   "outputs": [
    {
     "name": "stdout",
     "output_type": "stream",
     "text": [
      "Connexion réussie à la base de données !\n"
     ]
    }
   ],
   "source": [
    "import mysql.connector\n",
    "from mysql.connector import Error\n",
    "host = 'localhost'  \n",
    "user = 'root' \n",
    "password = '' \n",
    "database = 'datawarehouse'  \n",
    "port = 3307 \n",
    "try:\n",
    "    # Établir la connexion\n",
    "    conn = mysql.connector.connect(\n",
    "        host=host,\n",
    "        user=user,\n",
    "        password=password,\n",
    "        database=database,\n",
    "        port=port\n",
    "    )\n",
    "    \n",
    "    # Vérifier si la connexion est réussie\n",
    "    if conn.is_connected():\n",
    "        print(\"Connexion réussie à la base de données !\")\n",
    "except Error as e:\n",
    "    print(\"Erreur lors de la connexion :\", e)\n"
   ]
  },
  {
   "cell_type": "markdown",
   "metadata": {},
   "source": [
    "Chargement des données dans la table dimension \"Date\""
   ]
  },
  {
   "cell_type": "code",
   "execution_count": null,
   "metadata": {},
   "outputs": [],
   "source": [
    "# Supprimer les doublons de la colonne 'date' et les garder uniques\n",
    "unique_dates = excel_data_Tunisair[['Date', 'Jour', 'Mois', 'Année']].drop_duplicates()\n",
    "print(unique_dates)\n",
    "\n",
    "# Convertir les dates en format datetime et supprimer les valeurs invalides\n",
    "unique_dates['Date'] = pd.to_datetime(unique_dates['Date'], errors='coerce')\n",
    "unique_dates = unique_dates.dropna(subset=['Date'])\n",
    "\n",
    "# Filtrer les lignes où la date est '0000-00-00'\n",
    "unique_dates = unique_dates[unique_dates['Date'] != '0000-00-00']\n",
    "\n",
    "# Convertir les données uniques en une liste de tuples\n",
    "unique_dates_tuples = [\n",
    "    (row['Date'], row['Jour'], row['Mois'], row['Année']) \n",
    "    for _, row in unique_dates.iterrows()]\n",
    "\"\"\"Une tuple (en français, tuple) est un type de donnée en Python qui représente une séquence d'éléments. \n",
    "C'est un conteneur similaire à une liste, mais contrairement à une liste, un tuple est immuable, \n",
    "ce qui signifie qu'une fois créé, vous ne pouvez pas modifier ses éléments \"\"\"\n",
    "\n",
    "\n",
    "# Requête d'insertion avec la colonne ID_Date qui est une clé primaire\n",
    "insert_query = \"\"\"\n",
    "INSERT INTO date (ID_Date, Day, Month, Year) \n",
    "VALUES (%s, %s, %s, %s);\n",
    "\"\"\"\n",
    "\n",
    "# Insérer les données dans la table\n",
    "with conn.cursor() as cursor:\n",
    "    cursor.executemany(insert_query, unique_dates_tuples)\n",
    "    conn.commit()\n",
    "\n",
    "print(\"Données insérées avec succès dans la table dimension Date!\")\n"
   ]
  },
  {
   "cell_type": "markdown",
   "metadata": {},
   "source": [
    "Chargement des données dans la table dimension \"Airports\""
   ]
  },
  {
   "cell_type": "code",
   "execution_count": 201,
   "metadata": {},
   "outputs": [
    {
     "name": "stdout",
     "output_type": "stream",
     "text": [
      "Données insérées avec succès dans la table dimension Airports!\n"
     ]
    }
   ],
   "source": [
    "import mysql.connector\n",
    "import json\n",
    "\n",
    "\n",
    "\n",
    "# Vérifier si la clé 'airports' existe et contient des données\n",
    "if 'airports' in json_data_Airports:\n",
    "    airports_data = json_data_Airports['airports']\n",
    "    \n",
    "    # Créer un curseur pour exécuter des requêtes\n",
    "    cursor = conn.cursor()\n",
    "\n",
    "    # Boucle pour insérer chaque élément de la liste dans la table\n",
    "    for airport in airports_data:\n",
    "        # Préparer la requête d'insertion\n",
    "        insert_query = \"\"\"\n",
    "        INSERT INTO airports (Airport_code, Airport_Name, Airport_Country) \n",
    "        VALUES (%s, %s, %s);\n",
    "        \"\"\"\n",
    "        \n",
    "        # Assurez-vous que les clés dans le JSON correspondent aux colonnes de la table\n",
    "        data = (airport['Code'], airport['Airport_Name'], airport['Airport_country'])\n",
    "\n",
    "        # Exécuter la requête d'insertion\n",
    "        cursor.execute(insert_query, data)\n",
    "\n",
    "    # Commit les changements pour valider les inserts\n",
    "    conn.commit()\n",
    "\n",
    "\n",
    "    print(\"Données insérées avec succès dans la table dimension Airports!\")\n",
    "else:\n",
    "    print(\"Erreur : La clé 'airports' n'existe pas dans le fichier JSON.\")\n"
   ]
  },
  {
   "cell_type": "markdown",
   "metadata": {},
   "source": [
    "Chargement des données dans la table dimension \"Flight_features\""
   ]
  },
  {
   "cell_type": "markdown",
   "metadata": {},
   "source": [
    "Chargement des données de fichier \"Type_vols\""
   ]
  },
  {
   "cell_type": "code",
   "execution_count": 223,
   "metadata": {},
   "outputs": [
    {
     "name": "stdout",
     "output_type": "stream",
     "text": [
      "Données du fichier Type_Vols sont  insérées avec succès dans la table flight_features!\n"
     ]
    }
   ],
   "source": [
    "import mysql.connector\n",
    "import pandas as pd\n",
    "\n",
    "# insérer les données du fichier excel Type_Vols dans la table Flight_features\n",
    "cursor = conn.cursor()\n",
    "        \n",
    "for index, row in excel_data_TypeVols.iterrows():\n",
    "    # Préparer la requête SQL d'insertion\n",
    "    insert_query = \"\"\"\n",
    "    INSERT INTO flight_features (ID_FlightType, Flight_Type, Flight_Status) \n",
    "    VALUES (%s, %s, %s);\n",
    "    \"\"\"\n",
    "    \n",
    "    # Préparer les données pour la requête\n",
    "    data1 = (row['ID_FlightType'], row['Flight_Type'], row['Flight_status'])\n",
    "    \n",
    "    # Exécuter la requête d'insertion\n",
    "    cursor.execute(insert_query, data1)\n",
    "\n",
    "# Commit pour valider les changements\n",
    "conn.commit()\n",
    "print(f\"Données du fichier Type_Vols sont  insérées avec succès dans la table flight_features!\")"
   ]
  },
  {
   "cell_type": "markdown",
   "metadata": {},
   "source": [
    "Chargement des données de fichier \"DataSet Tunisair\""
   ]
  },
  {
   "cell_type": "code",
   "execution_count": 224,
   "metadata": {},
   "outputs": [
    {
     "name": "stdout",
     "output_type": "stream",
     "text": [
      "Données du fichier Type_Vols sont  insérées avec succès dans la table flight_features!\n"
     ]
    }
   ],
   "source": [
    "import mysql.connector\n",
    "import pandas as pd\n",
    "\n",
    "# insérer les données du fichier excel Type_Vols dans la table Flight_features\n",
    "cursor = conn.cursor()\n",
    "        \n",
    "for index, row in excel_data_Tunisair.iterrows():\n",
    "    # Préparer la requête SQL d'insertion\n",
    "    update_query = \"\"\"\n",
    "        UPDATE flight_features \n",
    "        SET Flight_Number = %s, \n",
    "            Schedule_Departure = %s, \n",
    "            Schedule_Arrival = %s, \n",
    "            Delay_Reason = %s \n",
    "        WHERE ID_FlightType = %s;\n",
    "        \"\"\"\n",
    "    \n",
    "    # Préparer les données pour la requête\n",
    "    data2 = (row['Flight_Number'], row['Scheduled_Departure'], row['Scheduled_Arrival'], row['Delay_Reason'],row['ID_FlightType'])\n",
    "    \n",
    "    # Exécuter la requête d'insertion\n",
    "    cursor.execute(update_query, data2)\n",
    "\n",
    "# Commit pour valider les changements\n",
    "conn.commit()\n",
    "print(f\"Données du fichier Type_Vols sont  insérées avec succès dans la table flight_features!\")"
   ]
  },
  {
   "cell_type": "markdown",
   "metadata": {},
   "source": [
    "Chargement des données dans la table Fait \"Flight\""
   ]
  },
  {
   "cell_type": "markdown",
   "metadata": {},
   "source": [
    "récupérer les prix de vols"
   ]
  },
  {
   "cell_type": "code",
   "execution_count": 142,
   "metadata": {},
   "outputs": [],
   "source": [
    "cursor_classes=conn_Access.cursor()\n",
    "def get_price(Destination):\n",
    "    query = \"\"\"\n",
    "    SELECT Economy_Price, PremEconomy_Price, Business_Price, FirstClass_Price\n",
    "    FROM prices \n",
    "    WHERE Destination=?\n",
    "    \"\"\"\n",
    "    cursor_classes.execute(query, (Destination)) \n",
    "    result = cursor_classes.fetchone()\n",
    "    #fetchone récupére une seule ligne d'un résultat de requête SQL\n",
    "    if result:\n",
    "        price_dict = {\n",
    "            \"Economy_Price\": result[0],\n",
    "            \"PremEconomy_Price\": result[1],\n",
    "            \"Business_Price\": result[2],\n",
    "            \"FirstClass_Price\": result[3]\n",
    "        }\n",
    "        return price_dict\n",
    "    \n"
   ]
  },
  {
   "cell_type": "markdown",
   "metadata": {},
   "source": [
    "Récupérer les types de vols"
   ]
  },
  {
   "cell_type": "code",
   "execution_count": null,
   "metadata": {},
   "outputs": [],
   "source": [
    "\n",
    "def get_flight_type_from_feature(flight_feature_id):\n",
    "    cursor = conn.cursor()\n",
    "    # Requête pour récupérer l'ID du Flight_Type depuis la table Flight_Features\n",
    "    query = \"\"\"\n",
    "    SELECT Flight_Type \n",
    "    FROM Flight_Features \n",
    "    WHERE ID_FlightType = %s\n",
    "    \"\"\"\n",
    "    cursor.execute(query, (flight_feature_id,))\n",
    "    result = cursor.fetchone()\n",
    "\n",
    "    if result:\n",
    "        return result[0]  # Retourne l'ID_FlightType\n",
    "    else:\n",
    "        return None  # Aucun résultat trouvé"
   ]
  },
  {
   "cell_type": "code",
   "execution_count": null,
   "metadata": {},
   "outputs": [],
   "source": [
    "import mysql.connector\n",
    "import pandas as pd\n",
    "\n",
    "# insérer les données du fichier excel Type_Vols dans la table Flight_features\n",
    "cursor = conn.cursor()\n",
    "        \n",
    "# Préparer la requête SQL d'insertion\n",
    "insert_query = \"\"\"\n",
    "    INSERT INTO flight(ID_Flight, Airport_Code_Dep, Airport_Code_Arr, ID_Date, ID_FlightType, Delay_Minute, nb_passengers_Economy, nb_passengers_PremEconomy, nb_passengers_Business, nb_passengers_FirstClass, nb_passengers_Flight, Flight_Income)\n",
    "    VALUES (%s, %s, %s, %s, %s, %s, %s, %s, %s, %s, %s, %s);\n",
    "        \"\"\"\n",
    "\n",
    "# Préparer les données pour la requête\n",
    "for index, row in excel_data_Tunisair.iterrows():\n",
    "    # Récupérer les valeurs des colonnes du fichier Excel\n",
    "    ID_Flight = row['Flight_ID']\n",
    "    Airport_Code_Dep = row['Departure_Station']\n",
    "    Airport_Code_Arr = row['Arrival_Station']\n",
    "    ID_Date = row['Date']\n",
    "    ID_FlightType = row['ID_FlightType']\n",
    "    Delay_Minute = row['Delay_Minute']\n",
    "    nb_passengers_Economy = row['Passengers_Number_economy']\n",
    "    nb_passengers_PremEconomy = row['Passengers_Number_PREMeconomy']\n",
    "    nb_passengers_Business = row['Passengers_Number_Business']\n",
    "    nb_passengers_FirstClass = row['Passengers_Number_FirstClass']\n",
    "\n",
    "    nb_passengers = nb_passengers_Economy + nb_passengers_PremEconomy + nb_passengers_Business + nb_passengers_FirstClass\n",
    "\n",
    "    Flight_Income = (nb_passengers_Economy *get_price(get_flight_type_from_feature(ID_FlightType),\"Economy\") +\n",
    "               nb_passengers_PremEconomy * get_price(get_flight_type_from_feature(ID_FlightType),\"PremiumEconomy\") +\n",
    "               nb_passengers_Business * get_price(get_flight_type_from_feature(ID_FlightType),\"Business\") +\n",
    "               nb_passengers_FirstClass * get_price(get_flight_type_from_feature(ID_FlightType),\"First Class\"))\n",
    "\n",
    "    data = (ID_Flight, Airport_Code_Dep, Airport_Code_Arr, ID_Date, ID_FlightType, Delay_Minute,\n",
    "            nb_passengers_Economy, nb_passengers_PremEconomy, nb_passengers_Business, nb_passengers_FirstClass,\n",
    "            nb_passengers, Flight_Income)\n",
    "    \n",
    "    # Exécuter la requête d'insertion\n",
    "    cursor.execute(insert_query, data)\n",
    "\n",
    "# Commit pour valider les changements\n",
    "conn.commit()\n",
    "print(f\"Les Données  sont  insérées avec succès dans la table Fait flight !\")"
   ]
  },
  {
   "cell_type": "code",
   "execution_count": null,
   "metadata": {},
   "outputs": [
    {
     "name": "stdout",
     "output_type": "stream",
     "text": [
      "[69737.0, 64788.0, 48701.0, 36043.0, 35111.0, 40738.0, 81651.0, 33047.0, 28878.0, 112447.0, 94333.0, 47253.0, 63867.0, 23174.0, 64840.0, 107778.0, 24662.0, 87080.0, 162300.0, 41483.0, 65066.0, 35257.0, 41592.0, 52057.0, 21613.0, 39490.0, 106794.0, 44186.0, 35910.0, 128321.0, 48632.0, 65000.0, 46954.0, 44462.0, 63310.0, 35234.0, 93722.0, 99387.0, 67092.0, 21953.0, 147341.0, 25322.0, 24145.0, 59034.0, 86604.0, 124358.0, 40446.0, 55284.0, 110293.0, 42327.0, 94349.0, 45552.0, 78541.0, 66224.0, 107344.0, 20408.0, 82848.0, 35503.0, 17190.0, 128645.0, 86282.0, 58757.0, 47191.0, 29556.0, 32161.0, 28512.0, 70933.0, 42309.0, 48868.0, 26612.0, 25467.0, 50584.0, 59165.0, 74964.0, 31684.0, 14957.0, 23808.0, 57354.0, 15082.0, 40521.0, 130347.0, 39843.0, 29156.0, 67461.0, 67576.0, 17832.0, 79228.0, 65470.0, 33904.0, 46206.0, 66186.0, 56956.0, 31836.0, 52118.0, 102773.0, 66348.0, 32678.0, 32731.0, 41837.0, 48494.0, 50068.0, 30082.0, 44248.0, 75472.0, 27733.0, 49968.0, 37803.0, 67833.0, 101467.0, 57428.0, 85274.0, 60797.0, 45519.0, 121106.0, 54797.0, 15310.0, 23308.0, 24071.0, 17536.0, 65010.0, 23767.0, 40835.0, 120510.0, 36599.0, 62414.0, 50226.0, 88134.0, 24790.0, 51481.0, 83337.0, 65065.0, 59739.0, 44389.0, 60732.0, 40583.0, 34496.0, 60647.0, 49814.0, 114755.0, 65069.0, 32806.0, 67234.0, 33140.0, 120902.0, 122350.0, 24819.0, 46635.0, 45892.0, 34333.0, 24680.0, 25629.0, 124203.0, 20975.0, 43411.0, 77082.0, 24648.0, 81827.0, 46662.0, 29440.0, 57209.0, 62284.0, 77216.0, 28706.0, 20802.0, 99116.0, 23273.0, 40148.0, 82433.0, 22560.0, 21284.0, 22340.0, 32068.0, 104003.0, 64268.0, 78262.0, 60866.0, 28624.0, 54769.0, 36581.0, 98872.0, 20991.0, 53105.0, 54516.0, 23622.0, 72572.0, 93310.0, 20361.0, 84456.0, 66089.0, 94833.0, 45178.0, 61770.0, 43542.0, 63279.0, 124648.0, 75586.0, 56234.0, 44672.0, 48569.0, 15045.0, 52112.0, 26684.0, 164915.0, 81109.0, 98579.0, 133467.0, 54397.0, 63970.0, 55424.0, 64313.0, 80197.0, 26099.0, 39726.0, 11321.0, 53804.0, 17923.0, 68262.0, 48553.0, 95630.0, 34157.0, 100080.0, 39704.0, 61240.0, 39105.0, 23388.0, 43081.0, 110815.0, 118699.0, 17848.0, 25793.0, 84382.0, 20420.0, 71984.0, 66570.0, 51317.0, 49577.0, 45019.0, 27658.0, 25291.0, 59465.0, 130020.0, 72002.0, 61639.0, 81341.0, 27013.0, 94861.0, 61862.0, 79117.0, 21239.0, 17959.0, 45016.0, 35508.0, 38062.0, 48889.0, 59434.0, 50784.0, 40270.0, 68721.0, 14386.0, 31129.0, 42447.0, 52584.0, 46863.0, 26414.0, 25721.0, 113906.0, 15365.0, 75812.0, 80449.0, 67084.0, 29513.0, 70176.0, 96433.0, 104111.0, 64530.0, 44356.0, 97356.0, 72856.0, 63320.0, 53949.0, 61827.0, 121975.0, 73501.0, 44514.0, 91741.0, 70777.0, 66462.0, 33335.0, 74205.0, 15639.0, 73827.0, 47525.0, 43558.0, 35216.0, 48604.0, 81749.0, 34929.0, 50030.0, 40197.0, 71277.0, 39836.0, 55185.0, 35357.0, 66944.0, 35018.0, 76296.0, 108894.0, 52955.0, 73570.0, 50170.0, 69083.0, 128420.0, 39412.0, 124548.0, 116455.0, 33604.0, 72807.0, 37471.0, 81166.0, 30779.0, 37186.0, 20857.0, 80957.0, 50392.0, 47228.0, 50954.0, 142847.0, 54565.0, 84697.0, 22165.0, 77134.0, 109226.0, 62739.0, 49027.0, 29677.0, 63498.0, 80131.0, 61695.0, 62242.0, 12482.0, 33626.0, 27900.0, 43581.0, 42885.0, 109777.0, 104488.0, 79706.0, 51035.0, 41521.0, 54492.0, 56538.0, 17928.0, 60776.0, 12527.0, 19374.0, 80768.0, 60302.0, 165687.0, 75647.0, 46512.0, 58011.0, 80571.0, 79239.0, 90285.0, 29647.0, 12854.0, 50876.0, 29663.0, 88466.0, 60558.0, 53559.0, 100190.0, 92506.0, 76335.0, 70461.0, 39914.0, 159505.0, 45971.0, 20843.0, 102775.0, 58934.0, 79852.0, 55547.0, 110632.0, 79414.0, 36193.0, 39237.0, 50983.0, 15984.0, 50243.0, 80893.0, 51139.0, 41693.0, 88758.0, 93333.0, 26037.0, 113526.0, 27674.0, 58252.0, 21531.0, 61475.0, 42052.0, 16104.0, 33195.0, 10849.0, 50728.0, 97458.0, 63947.0, 107288.0, 67138.0, 83456.0, 103319.0, 33664.0, 166195.0, 34199.0, 46136.0, 78391.0, 66091.0, 80443.0, 75729.0, 107944.0, 36348.0, 16279.0, 28760.0, 9800.0, 69529.0, 74852.0, 57079.0, 44249.0, 61562.0, 46780.0, 67203.0, 62421.0, 43192.0, 105298.0, 22271.0, 25766.0, 27368.0, 186871.0, 67966.0, 87047.0, 9440.0, 99203.0, 46448.0, 9148.0, 91500.0, 94169.0, 71750.0, 35924.0, 65161.0, 73560.0, 23655.0, 54751.0, 11215.0, 14973.0, 25287.0, 120111.0, 42761.0, 67415.0, 87684.0, 67550.0, 117535.0, 75084.0, 30881.0, 47731.0, 44291.0, 20381.0, 42809.0, 59508.0, 48961.0, 151573.0, 32577.0, 10612.0, 40166.0, 79059.0, 38646.0, 66039.0, 93056.0, 22024.0, 65805.0, 19460.0, 55793.0, 76654.0, 77760.0, 10968.0, 74457.0, 53249.0, 11661.0, 25810.0, 41107.0, 63743.0, 91459.0, 43249.0, 80400.0, 102920.0, 48214.0, 72938.0, 9084.0, 75325.0, 42825.0, 46310.0, 59955.0, 54824.0, 37074.0, 66156.0, 40188.0, 107131.0, 68741.0, 32275.0, 97092.0, 29444.0, 29794.0, 150344.0, 74626.0, 16988.0, 48682.0, 68639.0, 94640.0, 73139.0, 113420.0, 41670.0, 87941.0, 42404.0, 123007.0, 94663.0, 29241.0, 54349.0, 37243.0, 124733.0, 17154.0, 67646.0, 116360.0, 30093.0, 66911.0, 79454.0, 108737.0, 36173.0, 87256.0, 18058.0, 65575.0, 11662.0, 52409.0, 102726.0, 33545.0, 38592.0, 46682.0, 9921.0, 80367.0, 51204.0, 62300.0, 45990.0, 72734.0, 38088.0, 170453.0, 8706.0, 18093.0, 31016.0, 68334.0, 48777.0, 39134.0, 133053.0, 76711.0, 86575.0, 49855.0, 75467.0, 51151.0, 26598.0, 73233.0, 66216.0, 60433.0, 33363.0, 89167.0, 55217.0, 71145.0, 79518.0, 116340.0, 32396.0, 28450.0, 75162.0, 56064.0, 61656.0, 44379.0, 85193.0, 18333.0, 67314.0, 66917.0, 12675.0, 46488.0, 55592.0, 48578.0, 94758.0, 66909.0, 82738.0, 63159.0, 65345.0, 13634.0, 129451.0, 88894.0, 33395.0, 13445.0, 75404.0, 107394.0, 39519.0, 17023.0, 8727.0, 69600.0, 36854.0, 66535.0, 77595.0, 76746.0, 100480.0, 15594.0, 64569.0, 70485.0, 77884.0, 51581.0, 45560.0, 66646.0, 20556.0, 89260.0, 53369.0, 51991.0, 67086.0, 44275.0, 70106.0, 55433.0, 51567.0, 72174.0, 63535.0, 144421.0, 64888.0, 73851.0, 72360.0, 38715.0, 95558.0, 44252.0, 58545.0, 37558.0, 55816.0, 157974.0, 76256.0, 21746.0, 46960.0, 27728.0, 93593.0, 68691.0, 72628.0, 80406.0, 85600.0, 35044.0, 60158.0, 48188.0, 94871.0, 72627.0, 48104.0, 68504.0, 101774.0, 105945.0, 35776.0, 63372.0, 59747.0, 68792.0, 36473.0, 78607.0, 32544.0, 48265.0, 118248.0, 69521.0, 13136.0, 38885.0, 22376.0, 56669.0, 69810.0, 68519.0, 80746.0, 26236.0, 51192.0, 30097.0, 40230.0, 75228.0, 122171.0, 56244.0, 114251.0, 68003.0, 100846.0, 64410.0, 45429.0, 77423.0, 66996.0, 46805.0, 58043.0, 29163.0, 20306.0, 80740.0, 67563.0, 17589.0, 80634.0, 141026.0, 13350.0, 61493.0, 11834.0, 51688.0, 59721.0, 56400.0, 22447.0, 60929.0, 67457.0, 56733.0, 92520.0, 82598.0, 61241.0, 66481.0, 48230.0, 40561.0, 79768.0, 67705.0, 56492.0, 48105.0, 27016.0, 72743.0, 62241.0, 18820.0, 81408.0, 11648.0, 56778.0, 7084.0, 57623.0, 40014.0, 73690.0, 62736.0, 52004.0, 40587.0, 43809.0, 71903.0, 38377.0, 62710.0, 73627.0, 57024.0, 17097.0, 77996.0, 37577.0, 34461.0, 60219.0, 47867.0, 49519.0, 71835.0, 43802.0, 60208.0, 37659.0, 26925.0, 38823.0, 114877.0, 75264.0, 70303.0, 60918.0, 43504.0, 75152.0, 41200.0, 42152.0, 55212.0, 46125.0, 15093.0, 130474.0, 46494.0, 121839.0, 109546.0, 22606.0, 102700.0, 44707.0, 96793.0, 72492.0, 43589.0, 75636.0, 151967.0, 40184.0, 42797.0, 87004.0, 64598.0, 89862.0, 76656.0, 32115.0, 52458.0, 41377.0, 54436.0, 95070.0, 36354.0, 86138.0, 61286.0, 36504.0, 27997.0, 38050.0, 45726.0, 29236.0, 14244.0, 63897.0, 58864.0, 61999.0, 37744.0, 62816.0, 25841.0, 42272.0, 19827.0, 15828.0, 41028.0, 59828.0, 63722.0, 55514.0, 32681.0, 40736.0, 58512.0, 77879.0, 17636.0, 71521.0, 82506.0, 99399.0, 55622.0, 49312.0, 112951.0, 37936.0, 67746.0, 12640.0, 63523.0, 23995.0, 47675.0, 42299.0, 51961.0, 81873.0, 54923.0, 193075.0, 63265.0, 43054.0, 12533.0, 26932.0, 150471.0, 123809.0, 35073.0, 120787.0, 30068.0, 53888.0, 19364.0, 71636.0, 66719.0, 76177.0, 27886.0, 46860.0, 26037.0, 91872.0, 20851.0, 100239.0, 93961.0, 53019.0, 110184.0, 13603.0, 91752.0, 66451.0, 103822.0, 17344.0, 36304.0, 57495.0, 56764.0, 182184.0, 24545.0, 58058.0, 36930.0, 83796.0, 107562.0, 26626.0, 133835.0, 59911.0, 22401.0, 55910.0, 40149.0, 37476.0, 50074.0, 90358.0, 40206.0, 73469.0, 30281.0, 93078.0, 75336.0, 139087.0, 87788.0, 11740.0, 54950.0, 32104.0, 22438.0, 50084.0, 72009.0, 105818.0, 141293.0, 108897.0, 55934.0, 35316.0, 28768.0, 48515.0, 76150.0, 27247.0, 46008.0, 12143.0, 123820.0, 102393.0, 92920.0, 131238.0, 82746.0, 24811.0, 24698.0, 67246.0, 39622.0, 43063.0, 94960.0, 45882.0, 66556.0, 26465.0, 116315.0, 17002.0, 114847.0, 33732.0, 83778.0, 24262.0, 60588.0, 32309.0, 15413.0, 102669.0, 79660.0, 26972.0, 62129.0, 50512.0, 33687.0, 33162.0, 35434.0, 75745.0, 38721.0, 43690.0, 59612.0, 86420.0, 43143.0, 101548.0, 12474.0, 52858.0, 12368.0, 69930.0, 119812.0, 53117.0, 55474.0, 41118.0, 16586.0, 44472.0, 75269.0, 133998.0, 42731.0, 102688.0, 71850.0, 37914.0, 16511.0, 60298.0, 48855.0, 48430.0, 50890.0, 39943.0, 24515.0, 48819.0, 19836.0, 56152.0, 39301.0, 76584.0, 60191.0, 33134.0, 77560.0, 56339.0, 54601.0, 17057.0, 71010.0, 29002.0, 115689.0, 39080.0, 65780.0, 69640.0, 48476.0, 148344.0, 38842.0, 54068.0, 46568.0, 51260.0, 29682.0, 26018.0, 121812.0, 11801.0, 130190.0, 59750.0, 42214.0, 94184.0, 110072.0, 58901.0, 40247.0, 36944.0, 43694.0, 10432.0, 36017.0, 47295.0, 53426.0, 88213.0, 46411.0, 29724.0, 53950.0, 82287.0, 58216.0, 51958.0, 16027.0, 92044.0, 65181.0, 97695.0, 67464.0, 26680.0, 61040.0, 31996.0, 43975.0, 128097.0, 15684.0, 84043.0, 13428.0, 22110.0, 15392.0, 58582.0, 42134.0, 60693.0, 41177.0, 38141.0, 63448.0, 47487.0, 34052.0, 105780.0, 26727.0, 72542.0, 42581.0, 36073.0, 32347.0, 42780.0, 53419.0, 41577.0, 24092.0, 37766.0, 38213.0, 72497.0, 33022.0, 88754.0, 113794.0, 42502.0, 29395.0, 61608.0, 120319.0, 43321.0, 24345.0, 53940.0, 51650.0, 51280.0, 42812.0, 67705.0, 19821.0, 32800.0, 59331.0, 47308.0, 59399.0, 76718.0, 95650.0, 12021.0, 106790.0, 99950.0, 67467.0, 116762.0, 54715.0, 76327.0, 52213.0, 80746.0, 20720.0, 10264.0, 63010.0, 71590.0, 15127.0, 85443.0, 125494.0, 72069.0, 44419.0, 48941.0, 53894.0, 79984.0, 97453.0, 54020.0, 97912.0, 29979.0, 17624.0, 19960.0, 79467.0, 74046.0, 48983.0, 40364.0, 83617.0, 37376.0, 69898.0, 48506.0, 77132.0, 42155.0, 146160.0, 28682.0, 8294.0, 28578.0, 99356.0, 32473.0, 135745.0, 113317.0, 70399.0, 33646.0, 126638.0, 92323.0, 73078.0, 9576.0, 67574.0, 60251.0, 78149.0, 159162.0, 42180.0, 58421.0, 25734.0, 43168.0, 69527.0, 13139.0, 56219.0, 16952.0, 85437.0, 69088.0, 37326.0, 30900.0, 22388.0, 51922.0, 62458.0, 39135.0, 17593.0, 69163.0, 51888.0, 28907.0, 39175.0, 71567.0, 64086.0, 61005.0, 12773.0, 70103.0, 43578.0, 33815.0, 61042.0, 56544.0, 19969.0, 93100.0, 16524.0, 83195.0, 51871.0, 90651.0, 42996.0, 92530.0, 57635.0, 18318.0, 101940.0, 88365.0, 80357.0, 94067.0, 95742.0, 45045.0, 63231.0, 60382.0, 49477.0, 55455.0, 62668.0, 48063.0, 34561.0, 57088.0, 60066.0, 30319.0, 45921.0, 97761.0, 19847.0, 29788.0, 15144.0, 23095.0, 7124.0, 74361.0, 18441.0, 44130.0, 26461.0, 62811.0, 34206.0, 72675.0, 138058.0, 69552.0, 92055.0, 130508.0, 110374.0, 61227.0, 70430.0, 55042.0, 72698.0, 57557.0, 57528.0, 19821.0, 14708.0, 67255.0, 53059.0, 100648.0, 81270.0, 72436.0, 82890.0, 85229.0, 59149.0, 43327.0, 47636.0, 23674.0, 46796.0, 91446.0, 65630.0, 44459.0, 53562.0, 47939.0, 53169.0, 77729.0, 21831.0, 18103.0, 40700.0, 78865.0, 92511.0, 52396.0, 94612.0, 98691.0, 83102.0, 63806.0, 58025.0, 48795.0, 113057.0, 55754.0, 23170.0, 48933.0, 32692.0, 83883.0, 40608.0, 60163.0, 40450.0, 57638.0, 33426.0, 70779.0, 89972.0, 97038.0, 109474.0, 31605.0, 37676.0, 86342.0, 14375.0, 76759.0, 146145.0, 60332.0, 71837.0, 161703.0, 42863.0, 63814.0, 32549.0, 74224.0, 85262.0, 105659.0, 63802.0, 66305.0, 72793.0, 74461.0, 61174.0, 16688.0, 75046.0, 121569.0, 65544.0, 83526.0, 7369.0, 51153.0, 53770.0, 62181.0, 58375.0, 17293.0, 72888.0, 68955.0, 22891.0, 80465.0, 38040.0, 79492.0, 107142.0, 53698.0, 73182.0, 85369.0, 10482.0, 92564.0, 71124.0, 32685.0, 51180.0, 82866.0, 34376.0, 44661.0, 34094.0, 27898.0, 64607.0, 21204.0, 99154.0, 37130.0, 45987.0, 27266.0, 46436.0, 109326.0, 121523.0, 8898.0, 36640.0, 39329.0, 168390.0, 56154.0, 16941.0, 31155.0, 66101.0, 17325.0, 36540.0, 15827.0, 31337.0, 8330.0, 15690.0, 35483.0, 87806.0, 70585.0, 72444.0, 32680.0, 69574.0, 17461.0, 18910.0, 19654.0, 24345.0, 14920.0, 16665.0, 20454.0, 53236.0, 64608.0, 15067.0, 67767.0, 52840.0, 109744.0, 124423.0, 25152.0, 16972.0, 100915.0, 62780.0, 55892.0, 92511.0, 57494.0, 45443.0, 26431.0, 40983.0, 27207.0, 112659.0, 44010.0, 127926.0, 22507.0, 39302.0, 77833.0, 58038.0, 45750.0, 78318.0, 76780.0, 55135.0, 52044.0, 18478.0, 130379.0, 52469.0, 83220.0, 68295.0, 18196.0, 120368.0, 60292.0, 48297.0, 49410.0, 48066.0, 34910.0, 35545.0, 45537.0, 69242.0, 75416.0, 39942.0, 86607.0, 59079.0, 60960.0, 16914.0, 42514.0, 74802.0, 55997.0, 57545.0, 74602.0, 17596.0, 69637.0, 39948.0, 73064.0, 56027.0, 105926.0, 69932.0, 9392.0, 30119.0, 31902.0, 57972.0, 77919.0, 20435.0, 33133.0, 41546.0, 119855.0, 30736.0, 65504.0, 58137.0, 57640.0, 61535.0, 41001.0, 55875.0, 52595.0, 68051.0, 58942.0, 101166.0, 43709.0, 58536.0, 77658.0, 56873.0, 144653.0, 48618.0, 70282.0, 84856.0, 58442.0, 32118.0, 35130.0, 48272.0, 9238.0, 49230.0, 86819.0, 41900.0, 67188.0, 48955.0, 27505.0, 76591.0, 52930.0, 74862.0, 35307.0, 97922.0, 71326.0, 41435.0, 99901.0, 83266.0, 42765.0, 48618.0, 45077.0, 18131.0, 131840.0, 52007.0, 67029.0, 166710.0, 36024.0, 7317.0, 59081.0, 56492.0, 78460.0, 67005.0, 38299.0, 11659.0, 44289.0, 111994.0, 73036.0, 46510.0, 109104.0, 65979.0, 44876.0, 64076.0, 24053.0, 24352.0, 69903.0, 27768.0, 14642.0, 32454.0, 58898.0, 36323.0, 12617.0, 76004.0, 51725.0, 71770.0, 45243.0, 21698.0, 43602.0, 92815.0, 57405.0, 12847.0, 118895.0, 23858.0, 51322.0, 100944.0, 80239.0, 56175.0, 117731.0, 132182.0, 12423.0, 47650.0, 55926.0, 42940.0, 90403.0, 65661.0, 90636.0, 56425.0, 67470.0, 51293.0, 63737.0, 77315.0, 52395.0, 53124.0, 46744.0, 82755.0, 55617.0, 86944.0, 77647.0, 29831.0, 56559.0, 57033.0, 29167.0, 70301.0, 31849.0, 17888.0, 56065.0, 56739.0, 21486.0, 25523.0, 93788.0, 64513.0, 57105.0, 11408.0, 41189.0, 65565.0, 94170.0, 73421.0, 118198.0, 39504.0, 154292.0, 82258.0, 110450.0, 23163.0, 25862.0, 25758.0, 58937.0, 91794.0, 46128.0, 65919.0, 36858.0, 73478.0, 131643.0, 60481.0, 28545.0, 29423.0, 58994.0, 12675.0, 94253.0, 9661.0, 43880.0, 7566.0, 45403.0, 9393.0, 134790.0, 44204.0, 35341.0, 33101.0, 50811.0, 60951.0, 36309.0, 34997.0, 51106.0, 17479.0, 49533.0, 20098.0, 119835.0, 67243.0, 74831.0, 50790.0, 8862.0, 14195.0, 47780.0, 54424.0, 60316.0, 68408.0, 103374.0, 60318.0, 65595.0, 58908.0, 90132.0, 28905.0, 50130.0, 86885.0, 47495.0, 29664.0, 22746.0, 85424.0, 14688.0, 48222.0, 37524.0, 48026.0, 40617.0, 70530.0, 60486.0, 142034.0, 84720.0, 8617.0, 34367.0, 74882.0, 46534.0, 120761.0, 99745.0, 80560.0, 118471.0, 30487.0, 70888.0, 25543.0, 104168.0, 116758.0, 116554.0, 21079.0, 21479.0, 115219.0, 19960.0, 19888.0, 67090.0, 60869.0, 51149.0, 40662.0, 16305.0, 51332.0, 29751.0, 89917.0, 18920.0, 81414.0, 21220.0, 10804.0, 64664.0, 79622.0, 24290.0, 45738.0, 94653.0, 118067.0, 67890.0, 42659.0, 61846.0, 33053.0, 86183.0, 50276.0, 33683.0, 23833.0, 58556.0, 97642.0, 35658.0, 74688.0, 60974.0, 150676.0, 33824.0, 36016.0, 65693.0, 30772.0, 90374.0, 52382.0, 47637.0, 112783.0, 107514.0, 93434.0, 50872.0, 31174.0, 90678.0, 63095.0, 101033.0, 43795.0, 28132.0, 47374.0, 34053.0, 53991.0, 74615.0, 50811.0, 60281.0, 63133.0, 36485.0, 73982.0, 81264.0, 61552.0, 129623.0, 49461.0, 89270.0, 70401.0, 54151.0, 30611.0, 141448.0, 106854.0, 74166.0, 115491.0, 61347.0, 23747.0, 50090.0, 74069.0, 61353.0, 49574.0, 117465.0, 20251.0, 42743.0, 60297.0, 102824.0, 105728.0, 35947.0, 80548.0, 56439.0, 33687.0, 69372.0, 82224.0, 51139.0, 71504.0, 10650.0, 101598.0, 55416.0, 50976.0, 110494.0, 48609.0, 50053.0, 20217.0, 70337.0, 52796.0, 110595.0, 47923.0, 112956.0, 60394.0, 42163.0, 70356.0, 34670.0, 93489.0, 21482.0, 43552.0, 69220.0, 34951.0, 114786.0, 90524.0, 71768.0, 109462.0, 40118.0, 53505.0, 16963.0, 90387.0, 33088.0, 45233.0, 51783.0, 44425.0, 33022.0, 83634.0, 17564.0, 59558.0, 64438.0, 52885.0, 28231.0, 76131.0, 58189.0, 55338.0, 71117.0, 102586.0, 39059.0, 56336.0, 30647.0, 68362.0, 51656.0, 33254.0, 45816.0, 102629.0, 94560.0, 141104.0, 76281.0, 52210.0, 84682.0, 53350.0, 98260.0, 36568.0, 59737.0, 16702.0, 50965.0, 53582.0, 84358.0, 50230.0, 69798.0, 62739.0, 44719.0, 29794.0, 96654.0, 62904.0, 60989.0, 21371.0, 37157.0, 37322.0, 42233.0, 58404.0, 63180.0, 45877.0, 76165.0, 17681.0, 82191.0, 80341.0, 19968.0, 164608.0, 34848.0, 85837.0, 41956.0, 77788.0, 68606.0, 32426.0, 60785.0, 47154.0, 53966.0, 39968.0, 38155.0, 21286.0, 11778.0, 70931.0, 15683.0, 127722.0, 18122.0, 32947.0, 87660.0, 41091.0, 86222.0, 75253.0, 54725.0, 78225.0, 81074.0, 137738.0, 81149.0, 55129.0, 67711.0, 42412.0, 120443.0, 73561.0, 64337.0, 67874.0, 53144.0, 70987.0, 18309.0, 34812.0, 51147.0, 69024.0, 30372.0, 42287.0, 48464.0, 23594.0, 93975.0, 69947.0, 62274.0, 38496.0, 124854.0, 154193.0, 107188.0, 62735.0, 76792.0, 10231.0, 45682.0, 49634.0, 41299.0, 86789.0, 83216.0, 136476.0, 41545.0, 85858.0, 48575.0, 83704.0, 95104.0, 22536.0, 28165.0, 27510.0, 28519.0, 112534.0, 81288.0, 66860.0, 91460.0, 134162.0, 30694.0, 54617.0, 20597.0, 17135.0, 16202.0, 119864.0, 56405.0, 32087.0, 54830.0, 13086.0, 38740.0, 78593.0, 51493.0, 11647.0, 34742.0, 31878.0, 86726.0, 79844.0, 91171.0, 128461.0, 60668.0, 23284.0, 100825.0, 16600.0, 39073.0, 34492.0, 72080.0, 84006.0, 51056.0, 68339.0, 68838.0, 55291.0, 34023.0, 88719.0, 87442.0, 105327.0, 112942.0, 40161.0, 133378.0, 95146.0, 21123.0, 59336.0, 20030.0, 64347.0, 57958.0, 69921.0, 147352.0, 63080.0, 136036.0, 72054.0, 106828.0, 42103.0, 71437.0, 90157.0, 52704.0, 43008.0, 63087.0, 26708.0, 56276.0, 10451.0, 79478.0, 74294.0, 37091.0, 91446.0, 67563.0, 43462.0, 136724.0, 38571.0, 67615.0, 23134.0, 45110.0, 45478.0, 26614.0, 108679.0, 41862.0, 42156.0, 32294.0, 113516.0, 144081.0, 52876.0, 76249.0, 63070.0, 62523.0, 62584.0, 113250.0, 67176.0, 93697.0, 74837.0, 96616.0, 79137.0, 47595.0, 36966.0, 57186.0, 17405.0, 123830.0, 36181.0, 15932.0, 31351.0, 49254.0, 48355.0, 36068.0, 81206.0, 109095.0, 24165.0, 10226.0, 22612.0, 63439.0, 90884.0, 42592.0, 27626.0, 64432.0, 33239.0, 38292.0, 75378.0, 17751.0, 48254.0, 68931.0, 33903.0, 14221.0, 63179.0, 70876.0, 101254.0, 74170.0, 17476.0, 96653.0, 110601.0, 12002.0, 99721.0, 17050.0, 49372.0, 25451.0, 47610.0, 38735.0, 174985.0, 52626.0, 60351.0, 47426.0, 23956.0, 32279.0, 78562.0, 29825.0, 63540.0, 23986.0, 96076.0, 87919.0, 43540.0, 22382.0, 15357.0, 18228.0, 41581.0, 74451.0, 32362.0, 56588.0, 36980.0, 53992.0, 85185.0, 70740.0, 56832.0, 32385.0, 42156.0, 55884.0, 60372.0, 53970.0, 61619.0, 77508.0, 75358.0, 66642.0, 62160.0, 85937.0, 88286.0, 33952.0, 20862.0, 96941.0, 40675.0, 48591.0, 77527.0, 39194.0, 27640.0, 76294.0, 35652.0, 69078.0, 46036.0, 59540.0, 69386.0, 63174.0, 123908.0, 76636.0, 10909.0, 48258.0, 92123.0, 14541.0, 89714.0, 54175.0, 77457.0, 60336.0, 28189.0, 57777.0, 60442.0, 74465.0, 102257.0, 18074.0, 69828.0, 28783.0, 38632.0, 58448.0, 61925.0, 70646.0, 70262.0, 81555.0, 66396.0, 14146.0, 20662.0, 25052.0, 7450.0, 94737.0, 52542.0, 73527.0, 50563.0, 88137.0, 46641.0, 57593.0, 96924.0, 21318.0, 93304.0, 12349.0, 20140.0, 51209.0, 88879.0, 84806.0, 54661.0, 90582.0, 59396.0, 140964.0, 62795.0, 23790.0, 62725.0, 134738.0, 104905.0, 65528.0, 114550.0, 37053.0, 64258.0, 74043.0, 38741.0, 46466.0, 116277.0, 52381.0, 109331.0, 18654.0, 58448.0, 106394.0, 78088.0, 62958.0, 89936.0, 38743.0, 32450.0, 76391.0, 66224.0, 32280.0, 110966.0, 39059.0, 22352.0, 124451.0, 59560.0, 49748.0, 56502.0, 23039.0, 34056.0, 87308.0, 69566.0, 59970.0, 50790.0, 42794.0, 26436.0, 10271.0, 40606.0, 18300.0, 11080.0, 33397.0, 48087.0, 61435.0, 25266.0, 71339.0, 56359.0, 38662.0, 32796.0, 66111.0, 57495.0, 48825.0, 67342.0, 53059.0, 42852.0, 39357.0, 116091.0, 41685.0, 92955.0, 51022.0, 61591.0, 65409.0, 143664.0, 19928.0, 86567.0, 27748.0, 56275.0, 48142.0, 45547.0, 60474.0, 33387.0, 27481.0, 22940.0, 76545.0, 33842.0, 56904.0, 142554.0, 73829.0, 57462.0, 72898.0, 45872.0, 70541.0, 117220.0, 33213.0, 35452.0, 118777.0, 21833.0, 62432.0, 67271.0, 48152.0, 47429.0, 53336.0, 86138.0, 65244.0, 187381.0, 74188.0, 75537.0, 50784.0, 48164.0, 66574.0, 49869.0, 53509.0, 62837.0, 73998.0, 87294.0, 33098.0, 60606.0, 34620.0, 31259.0, 11846.0, 38260.0, 49392.0, 33580.0, 109084.0, 131188.0, 65385.0, 105702.0, 32844.0, 45553.0, 29711.0, 32323.0, 32473.0, 124482.0, 72884.0, 59633.0, 86535.0, 63594.0, 58479.0, 26731.0, 19147.0, 34707.0, 93681.0, 39081.0, 28861.0, 100620.0, 60340.0, 28558.0, 25459.0, 97816.0, 21652.0, 78580.0, 45573.0, 109685.0, 18354.0, 60152.0, 42376.0, 70152.0, 72728.0, 127942.0, 60316.0, 18404.0, 17826.0, 58515.0, 59920.0, 57950.0, 50237.0, 5958.0, 10064.0, 59547.0, 45334.0, 36340.0, 20457.0, 16295.0, 19237.0, 48083.0, 48321.0, 79559.0, 81486.0, 54589.0, 73359.0, 43900.0, 60582.0, 25471.0, 41424.0, 51942.0, 65150.0, 69440.0, 46480.0, 105559.0, 19370.0, 53622.0, 32837.0, 135171.0, 40768.0, 16154.0, 55228.0, 18884.0, 85305.0, 13717.0, 77546.0, 18857.0, 45530.0, 27804.0, 70009.0, 95778.0, 20959.0, 80634.0, 59268.0, 61642.0, 50677.0, 39824.0, 64413.0, 89900.0, 75135.0, 61991.0, 34609.0, 17105.0, 46324.0, 80621.0, 56972.0, 47976.0, 85068.0, 30718.0, 75361.0, 64695.0, 77124.0, 28246.0, 26826.0, 33340.0, 92495.0, 65654.0, 38192.0, 31152.0, 96541.0, 42745.0, 25123.0, 69927.0, 68264.0, 59043.0, 89232.0, 36542.0, 71940.0, 54339.0, 35139.0, 103681.0, 80398.0, 52828.0, 66960.0, 149338.0, 22379.0, 46046.0, 58392.0, 97867.0, 82537.0, 99016.0, 13368.0, 72557.0, 16247.0, 26508.0, 31344.0, 51654.0, 77060.0, 104337.0, 75153.0, 74138.0, 93216.0, 31263.0, 52415.0, 24592.0, 56013.0, 85900.0, 89198.0, 45321.0, 53926.0, 128517.0, 42412.0, 70169.0, 66512.0, 81239.0, 67985.0, 90380.0, 64702.0, 123164.0, 124285.0, 133304.0, 63278.0, 21600.0, 19283.0, 37240.0, 33657.0, 55116.0, 17321.0, 36220.0, 59649.0, 33324.0, 98230.0, 48336.0, 22108.0, 46069.0, 53648.0, 24517.0, 75864.0, 15876.0, 16516.0, 9005.0, 86482.0, 46846.0, 36464.0, 11578.0, 59041.0, 104245.0, 87444.0, 19732.0, 77143.0, 46797.0, 69669.0, 148478.0, 33136.0, 56687.0, 37446.0, 79450.0, 135318.0, 59890.0, 72424.0, 21139.0, 62583.0, 48189.0, 60500.0, 12393.0, 47148.0, 111108.0, 18702.0, 67644.0, 67512.0, 24525.0, 30983.0, 76028.0, 60471.0, 81579.0, 20602.0, 74640.0, 54012.0, 98812.0, 45969.0, 117235.0, 44105.0, 47528.0, 63758.0, 68292.0, 36636.0, 128254.0, 42711.0, 36622.0, 22619.0, 32125.0, 75381.0, 87458.0, 25666.0, 19704.0, 35172.0, 79641.0, 77060.0, 116414.0, 109091.0, 58762.0, 19506.0, 96005.0, 49569.0, 28680.0, 123340.0, 64794.0, 60067.0, 28627.0, 50357.0, 61060.0, 143015.0, 61956.0, 41105.0, 140376.0, 56686.0, 50570.0, 50002.0, 65004.0, 30147.0, 60699.0, 32618.0, 43226.0, 58756.0, 41500.0, 75408.0, 89144.0, 65101.0, 39756.0, 78777.0, 65608.0, 62387.0, 23952.0, 30850.0, 53286.0, 21249.0, 17506.0, 11157.0, 14164.0, 15274.0, 70084.0, 18181.0, 21631.0, 47506.0, 98262.0, 68414.0, 143771.0, 125122.0, 25605.0, 24032.0, 9643.0, 42646.0, 106222.0, 60763.0, 82523.0, 26820.0, 22647.0, 72073.0, 52631.0, 30535.0, 61986.0, 30843.0, 77357.0, 81157.0, 58401.0, 31880.0, 66876.0, 70045.0, 44816.0, 64486.0, 47201.0, 8100.0, 65809.0, 80298.0, 97935.0, 60752.0, 46391.0, 61432.0, 28849.0, 31989.0, 47252.0, 108754.0, 24504.0, 38709.0, 93701.0, 69109.0, 67882.0, 37379.0, 25239.0, 21103.0, 80581.0, 20879.0, 64158.0, 24166.0, 40328.0, 51444.0, 177836.0, 117855.0, 106691.0, 13011.0, 95733.0, 52871.0, 14996.0, 24547.0, 21637.0, 44153.0, 67860.0, 24875.0, 54794.0, 23956.0, 71464.0, 51668.0, 69663.0, 76963.0, 31226.0, 116486.0, 22913.0, 49771.0, 61087.0, 44130.0, 55732.0, 16922.0, 20085.0, 120187.0, 75078.0, 16428.0, 79236.0, 22976.0, 44522.0, 57562.0, 45129.0, 61294.0, 55206.0, 71732.0, 56520.0, 43476.0, 15582.0, 112831.0, 38056.0, 113162.0, 81174.0, 18269.0, 98334.0, 48212.0, 31121.0, 71384.0, 22763.0, 87761.0, 44737.0, 64063.0, 32535.0, 29885.0, 14758.0, 22931.0, 20759.0, 127164.0, 97868.0, 41491.0, 52064.0, 64355.0, 116309.0, 51841.0, 46728.0, 63673.0, 41434.0, 126772.0, 68550.0, 44965.0, 81259.0, 59576.0, 52710.0, 34870.0, 20961.0, 82909.0, 26007.0, 76831.0, 43889.0, 64964.0, 82843.0, 12976.0, 20093.0, 55328.0, 40938.0, 51285.0, 43959.0, 23703.0, 53160.0, 49018.0, 15437.0, 163803.0, 87890.0, 52292.0, 59113.0, 47577.0, 47443.0, 57329.0, 33973.0, 87895.0, 104798.0, 41684.0, 129799.0, 29972.0, 91563.0, 41527.0, 15265.0, 31876.0, 37987.0, 44592.0, 76505.0, 87927.0, 60652.0, 126403.0, 28004.0, 63047.0, 24116.0, 22846.0, 50108.0, 64495.0, 117563.0, 68302.0, 14901.0, 46367.0, 24483.0, 9615.0, 66044.0, 54826.0, 29515.0, 41985.0, 34782.0, 30441.0, 41845.0, 72354.0, 57545.0, 24509.0, 48076.0, 44248.0, 53225.0, 18045.0, 57458.0, 9468.0, 70464.0, 60857.0, 105330.0, 75458.0, 112560.0, 126922.0, 26563.0, 14919.0, 14293.0, 55983.0, 98594.0, 70411.0, 71627.0, 67041.0, 71687.0, 36724.0, 117741.0, 56841.0, 63522.0, 74991.0, 18535.0, 23037.0, 15827.0, 34403.0, 50824.0, 74539.0, 58635.0, 57419.0, 12309.0, 150929.0, 53605.0, 63035.0, 19313.0, 58368.0, 42452.0, 37483.0, 33368.0, 58421.0, 46814.0, 115213.0, 17626.0, 31807.0, 128575.0, 101075.0, 74795.0, 61418.0, 48252.0, 58494.0, 28190.0, 66434.0, 36615.0, 42113.0, 66511.0, 92094.0, 35602.0, 45028.0, 37654.0, 52191.0, 121954.0, 71220.0, 79833.0, 50909.0, 49672.0, 90010.0, 12199.0, 44262.0, 100742.0, 55212.0, 53947.0, 54480.0, 30382.0, 22776.0, 57153.0, 16100.0, 60980.0, 87163.0, 31891.0, 63922.0, 34530.0, 43273.0, 69352.0, 37494.0, 81814.0, 40138.0, 81554.0, 17992.0, 27623.0, 42986.0, 103509.0, 72898.0, 7287.0, 51041.0, 60314.0, 109597.0, 21215.0, 56211.0, 77789.0, 139128.0, 35802.0, 63650.0, 88274.0, 26136.0, 135244.0, 35010.0, 20722.0, 43881.0, 23823.0, 179810.0, 30377.0, 88150.0, 42474.0, 153166.0, 69112.0, 15831.0, 55110.0, 103177.0, 57810.0, 97939.0, 37573.0, 120387.0, 24054.0, 61191.0, 99455.0, 113599.0, 17628.0, 66964.0, 24057.0, 11155.0, 65420.0, 58832.0, 47277.0, 56326.0, 58655.0, 77875.0, 27068.0, 29309.0, 50016.0, 67128.0, 46464.0, 70621.0, 68192.0, 153728.0, 67237.0, 104662.0, 120730.0, 80777.0, 106299.0, 38766.0, 67164.0, 42279.0, 85584.0, 90575.0, 66394.0, 82272.0, 127810.0, 54799.0, 81109.0, 66013.0, 44065.0, 45315.0, 36341.0, 96593.0, 55653.0, 63379.0, 20904.0, 65133.0, 82976.0, 74863.0, 31973.0, 37327.0, 151871.0, 46904.0, 113674.0, 33792.0, 59867.0, 21544.0, 51810.0, 9396.0, 8672.0, 128500.0, 36698.0, 33047.0, 56006.0, 72307.0, 14823.0, 28961.0, 156143.0, 76185.0, 27477.0, 58536.0, 27950.0, 58446.0, 10337.0, 80275.0, 62241.0, 45048.0, 77677.0, 91663.0, 68500.0, 33090.0, 22245.0, 30018.0, 23328.0, 57186.0, 9696.0, 55914.0, 117785.0, 61607.0, 84713.0, 45559.0, 53057.0, 50927.0, 123322.0, 99019.0, 130439.0, 17576.0, 51086.0, 75313.0, 30110.0, 96939.0, 14925.0, 31165.0, 76555.0, 40823.0, 59729.0, 24675.0, 53647.0, 24340.0, 59320.0, 35428.0, 10492.0, 83562.0, 38444.0, 15514.0, 12713.0, 90432.0, 63291.0, 78534.0, 47562.0, 75784.0, 62430.0, 47439.0, 35093.0, 134344.0, 103664.0, 71320.0, 76726.0, 52008.0, 76032.0, 48273.0, 39130.0, 54267.0, 28089.0, 67757.0, 51396.0, 81776.0, 124095.0, 40084.0, 51791.0, 48281.0, 54745.0, 28750.0, 35458.0, 63697.0, 41777.0, 53919.0, 61310.0, 34572.0, 15888.0, 65248.0, 45474.0, 51646.0, 146128.0, 52534.0, 83898.0, 48697.0, 53324.0, 43313.0, 74105.0, 121225.0, 83342.0, 50519.0, 81892.0, 31232.0, 78609.0, 65570.0, 33458.0, 12798.0, 142610.0, 112571.0, 68591.0, 45797.0, 57454.0, 62463.0, 33476.0, 20688.0, 139206.0, 66256.0, 74034.0, 89479.0, 91095.0, 56346.0, 45677.0, 13860.0, 56213.0, 48392.0, 72284.0, 76497.0, 94205.0, 47911.0, 27409.0, 65676.0, 22096.0, 46754.0, 61528.0, 135728.0, 83580.0, 71972.0, 26659.0, 82109.0, 61092.0, 29536.0, 98425.0, 55276.0, 90254.0, 75748.0, 84784.0, 116755.0, 37764.0, 43344.0, 74311.0, 38808.0, 87214.0, 63200.0, 115690.0, 43509.0, 109556.0, 27558.0, 35154.0, 102647.0, 64044.0, 20614.0, 46376.0, 73028.0, 60240.0, 34113.0, 90177.0, 117946.0, 46678.0, 80568.0, 123678.0, 89028.0, 41953.0, 22511.0, 48834.0, 46617.0, 35728.0, 43837.0, 39332.0, 41180.0, 61971.0, 69812.0, 76148.0, 131554.0, 38414.0, 26288.0, 60826.0, 14979.0, 112175.0, 35222.0, 11929.0, 68793.0, 73405.0, 21968.0, 7100.0, 40786.0, 78917.0, 15778.0, 13541.0, 16324.0, 52438.0, 56005.0, 156525.0, 99875.0, 73144.0, 142778.0, 18400.0, 55261.0, 53472.0, 33157.0, 110242.0, 15524.0, 78907.0, 32345.0, 64648.0, 32250.0, 115184.0, 33205.0, 102916.0, 17810.0, 49440.0, 56198.0, 44886.0, 60908.0, 78688.0, 95630.0, 19024.0, 45406.0, 130173.0, 38436.0, 59828.0, 63272.0, 49036.0, 87022.0, 24888.0, 12569.0, 36196.0, 71148.0, 70406.0, 68862.0, 45935.0, 33845.0, 15940.0, 42947.0, 21166.0, 22977.0, 91979.0, 56697.0, 19061.0, 26524.0, 26926.0, 28594.0, 63640.0, 38341.0, 87610.0, 36426.0, 69971.0, 36700.0, 60141.0, 29873.0, 79612.0, 49460.0, 66388.0, 52574.0, 158498.0, 59522.0, 61039.0, 58216.0, 28811.0, 32115.0, 68262.0, 42011.0, 41885.0, 91257.0, 60847.0, 103721.0, 47103.0, 42600.0, 55504.0, 22443.0, 50238.0, 105013.0, 31632.0, 25549.0, 49330.0, 56531.0, 90765.0, 20197.0, 49589.0, 44164.0, 60383.0, 79968.0, 49890.0, 24536.0, 9110.0, 12272.0, 34825.0, 48409.0, 56715.0, 86108.0, 42354.0, 53806.0, 20291.0, 79750.0, 47122.0, 30703.0, 19594.0, 95112.0, 44295.0, 63636.0, 86163.0, 43866.0, 8860.0, 25407.0, 19035.0, 57289.0, 73803.0, 28052.0, 83764.0, 48443.0, 10756.0, 35045.0, 54581.0, 91032.0, 60289.0, 73445.0, 38744.0, 14907.0, 17909.0, 69676.0, 63740.0, 21419.0, 65339.0, 43886.0, 26214.0, 78370.0, 50242.0, 80366.0, 31725.0, 91120.0, 16888.0, 39064.0, 62357.0, 38857.0, 69888.0, 53375.0, 17600.0, 84644.0, 19081.0, 45811.0, 85507.0, 20240.0, 130485.0, 51124.0, 31429.0, 72697.0, 29530.0, 83831.0, 47285.0, 57229.0, 86927.0, 31204.0, 106081.0, 79118.0, 30856.0, 13707.0, 46847.0, 69452.0, 60670.0, 134572.0, 63170.0, 142133.0, 19614.0, 37633.0, 146799.0, 106783.0, 82547.0, 77345.0, 33226.0, 58211.0, 82650.0, 37536.0, 74274.0, 80917.0, 10836.0, 26153.0, 67966.0, 67266.0, 15412.0, 54075.0, 9910.0, 47099.0, 101175.0, 51544.0, 84783.0, 164304.0, 15431.0, 122263.0, 90341.0, 27712.0, 35576.0, 32823.0, 120808.0, 27630.0, 50443.0, 38703.0, 58837.0, 75131.0, 72745.0, 68122.0, 82956.0, 64785.0, 34941.0, 65880.0, 100200.0, 72146.0, 118615.0, 9793.0, 43997.0, 69391.0, 85534.0, 43835.0, 65361.0, 11484.0, 107423.0, 41030.0, 71778.0, 40412.0, 108270.0, 43157.0, 134755.0, 43852.0, 47912.0, 9499.0, 79007.0, 118910.0, 52104.0, 28934.0, 65197.0, 82289.0, 80824.0, 68876.0, 99080.0, 85621.0, 43379.0, 93615.0, 61926.0, 69133.0, 9144.0, 53392.0, 48539.0, 36088.0, 30409.0, 77974.0, 73035.0, 78020.0, 60105.0, 32947.0, 30782.0, 25581.0, 7926.0, 9340.0, 20594.0, 37167.0, 23273.0, 83399.0, 102958.0, 21816.0, 99599.0, 65901.0, 48447.0, 35848.0, 37794.0, 84591.0, 23194.0, 33847.0, 60107.0, 57058.0, 149400.0, 39615.0, 20202.0, 11575.0, 50810.0, 26211.0, 26322.0, 29390.0, 71112.0, 96342.0, 56466.0, 61497.0, 24632.0, 65687.0, 76350.0, 50317.0, 36837.0, 56388.0, 25236.0, 81026.0, 85517.0, 140661.0, 54925.0, 81194.0, 142046.0, 86300.0, 73567.0, 23439.0, 59801.0, 15788.0, 10930.0, 33290.0, 39118.0, 85543.0, 67827.0, 102625.0, 28772.0, 21240.0, 69194.0, 35502.0, 49549.0, 130979.0, 126612.0, 64149.0, 38521.0, 66500.0, 49097.0, 110624.0, 115802.0, 119535.0, 51736.0, 18545.0, 47816.0, 79049.0, 90535.0, 24071.0, 74420.0, 36421.0, 27742.0, 10299.0, 112301.0, 68284.0, 78002.0, 19153.0, 63838.0, 56153.0, 52947.0, 51243.0, 41327.0, 63003.0, 65302.0, 86754.0, 54648.0, 88062.0, 55388.0, 20866.0, 26518.0, 130111.0, 37805.0, 28756.0, 71466.0, 32211.0, 40370.0, 63464.0, 47792.0, 35104.0, 68880.0, 135691.0, 98200.0, 70209.0, 37159.0, 28866.0, 48687.0, 72446.0, 29689.0, 15669.0, 45405.0, 55224.0, 49284.0, 33949.0, 130310.0, 58780.0, 18564.0, 25471.0, 61284.0, 14347.0, 43529.0, 83813.0, 50920.0, 96699.0, 16858.0, 98303.0, 71046.0, 63155.0, 43910.0, 18003.0, 93625.0, 46670.0, 67108.0, 68400.0, 14382.0, 76008.0, 138364.0, 126298.0, 70042.0, 29974.0, 29258.0, 145960.0, 37407.0, 40620.0, 43013.0, 64809.0, 13465.0, 64382.0, 56814.0, 121422.0, 34546.0, 57978.0, 28656.0, 58853.0, 64504.0, 12572.0, 11780.0, 14531.0, 46320.0, 116874.0, 29059.0, 41250.0, 37830.0, 29285.0, 64812.0, 76198.0, 39144.0, 33525.0, 67775.0, 25159.0, 71708.0, 97600.0, 63878.0, 35534.0, 46283.0, 36385.0, 94052.0, 39114.0, 10296.0, 30901.0, 73901.0, 33762.0, 13918.0, 65312.0, 46776.0, 59900.0, 64770.0, 31345.0, 78314.0, 38192.0, 26229.0, 33470.0, 15608.0, 76444.0, 56337.0, 55714.0, 22087.0, 68992.0, 22689.0, 16460.0, 63204.0, 106732.0, 69788.0, 37005.0, 32450.0, 77306.0, 129880.0, 116587.0, 49950.0, 51019.0, 56099.0, 145384.0, 31557.0, 36480.0, 86429.0, 14473.0, 77489.0, 26009.0, 46403.0, 9130.0, 45870.0, 92838.0, 77730.0, 104694.0, 60667.0, 99978.0, 56030.0, 49021.0, 74796.0, 32880.0, 105393.0, 10705.0, 20334.0, 79872.0, 35751.0, 119840.0, 63005.0, 85017.0, 82028.0, 72327.0, 88812.0, 18698.0, 53255.0, 64694.0, 17397.0, 52320.0, 35892.0, 57480.0, 42839.0, 61819.0, 65754.0, 38507.0, 63724.0, 76732.0, 14430.0, 119242.0, 72310.0, 135012.0, 34932.0, 60947.0, 110650.0, 26154.0, 8002.0, 42122.0, 59718.0, 40947.0, 149771.0, 9656.0, 9950.0, 23191.0, 153604.0, 49620.0, 90402.0, 30548.0, 7064.0, 113920.0, 82700.0, 16087.0, 44521.0, 10211.0, 66497.0, 53327.0, 41295.0, 65974.0, 38920.0, 81139.0, 27921.0, 42458.0, 92223.0, 97763.0, 61032.0, 29487.0, 60027.0, 28337.0, 54358.0, 80347.0, 40556.0, 44106.0, 11673.0, 57008.0, 52930.0, 93354.0, 15751.0, 73883.0, 35307.0, 63734.0, 117260.0, 73341.0, 28963.0, 26357.0, 39454.0, 61869.0, 95149.0, 75899.0, 69518.0, 34152.0, 39798.0, 10602.0, 69580.0, 112681.0, 76653.0, 32376.0, 31712.0, 56978.0, 80842.0, 73034.0, 41299.0, 74958.0, 37982.0, 71495.0, 6503.0, 22755.0, 120832.0, 102394.0, 56477.0, 81818.0, 28344.0, 53239.0, 20432.0, 32733.0, 64772.0, 34976.0, 52959.0, 60793.0, 11559.0, 39471.0, 35877.0, 19000.0, 89097.0, 35401.0, 77625.0, 48484.0, 67319.0, 19659.0, 19115.0, 44956.0, 51270.0, 18291.0, 116446.0, 57258.0, 23326.0, 21312.0, 89779.0, 11958.0, 20188.0, 134440.0, 88694.0, 31112.0, 34948.0, 10120.0, 19919.0, 79311.0, 45902.0, 67080.0, 54152.0, 42888.0, 53630.0, 38793.0, 78514.0, 36787.0, 64508.0, 34498.0, 34521.0, 64350.0, 55060.0, 65078.0, 72698.0, 37148.0, 17529.0, 63106.0, 101757.0, 44660.0, 134040.0, 27422.0, 133046.0, 28326.0, 50369.0, 62669.0, 69609.0, 123851.0, 117376.0, 15799.0, 42274.0, 59973.0, 134647.0, 52323.0, 22184.0, 57831.0, 62357.0, 46097.0, 29330.0, 106202.0, 38161.0, 71078.0, 63944.0, 45372.0, 43934.0, 74072.0, 29516.0, 45402.0, 43044.0, 106878.0, 127734.0, 94002.0, 9458.0, 79636.0, 22047.0, 15042.0, 106399.0, 37347.0, 85257.0, 42216.0, 91000.0, 18612.0, 24456.0, 117217.0, 101654.0, 33457.0, 40789.0, 95387.0, 69036.0, 38393.0, 58512.0, 83591.0, 60879.0, 54301.0, 32362.0, 94320.0, 48266.0, 83221.0, 60382.0, 27371.0, 96786.0, 82246.0, 72456.0, 62806.0, 49754.0, 45758.0, 75291.0, 63558.0, 22320.0, 110938.0, 29813.0, 89020.0, 47910.0, 11172.0, 43798.0, 82112.0, 71583.0, 20792.0, 67378.0, 125005.0, 129117.0, 68864.0, 122634.0, 44387.0, 75093.0, 78331.0, 27891.0, 34399.0, 11591.0, 54032.0, 65349.0, 53684.0, 53229.0, 58404.0, 135417.0, 113479.0, 66018.0, 61524.0, 77876.0, 93579.0, 37295.0, 124753.0, 33037.0, 160433.0, 65650.0, 51684.0, 54400.0, 59642.0, 49051.0, 68514.0, 23650.0, 40262.0, 48950.0, 65393.0, 74556.0, 68471.0, 109971.0, 28003.0, 53258.0, 120842.0, 137534.0, 38416.0, 149596.0, 34363.0, 49522.0, 44286.0, 80440.0, 42629.0, 56008.0, 52623.0, 32988.0, 44025.0, 91591.0, 86495.0, 50899.0, 41027.0, 69169.0, 61971.0, 18163.0, 78204.0, 87957.0, 127567.0, 47276.0, 16683.0, 102486.0, 72960.0, 10985.0, 11796.0, 47222.0, 21336.0, 44906.0, 44236.0, 46436.0, 102510.0, 17167.0, 136816.0, 65077.0, 46797.0, 41790.0, 101947.0, 60097.0, 80379.0, 55447.0, 58162.0, 24693.0, 32419.0, 57013.0, 35306.0, 66374.0, 28350.0, 69655.0, 96696.0, 65733.0, 31390.0, 18239.0, 46801.0, 59782.0, 43012.0, 39757.0, 55512.0, 88238.0, 21516.0, 90454.0, 32929.0, 60470.0, 14746.0, 36911.0, 60262.0, 39657.0, 84721.0, 81521.0, 57504.0, 25716.0, 15811.0, 46809.0, 20920.0, 37836.0, 132866.0, 100425.0, 39995.0, 71549.0, 26633.0, 45687.0, 40886.0, 65888.0, 24736.0, 28143.0, 11090.0, 35333.0, 38408.0, 28131.0, 38946.0, 15845.0, 34131.0, 79224.0, 9590.0, 81680.0, 96809.0, 62429.0, 59142.0, 62648.0, 45382.0, 55325.0, 106967.0, 67904.0, 59500.0, 61468.0, 57291.0, 86202.0, 61430.0, 47285.0, 39778.0, 157930.0, 39653.0, 58410.0, 44016.0, 95805.0, 14726.0, 37380.0, 77562.0, 28595.0, 41418.0, 140453.0, 98560.0, 61382.0, 49856.0, 87469.0, 39552.0, 42886.0, 27872.0, 53747.0, 36997.0, 49257.0, 109481.0, 19392.0, 151408.0, 45757.0, 125342.0, 19417.0, 82174.0, 19117.0, 18515.0, 55880.0, 27857.0, 48357.0, 11736.0, 90672.0, 59417.0, 24956.0, 46703.0, 15619.0, 62706.0, 36843.0, 31956.0, 99576.0, 82497.0, 130238.0, 57874.0, 70040.0, 62387.0, 54600.0, 12928.0, 111712.0, 41702.0, 15029.0, 33061.0, 78421.0, 37373.0, 74119.0, 56283.0, 71934.0, 50219.0, 91638.0, 45717.0, 67720.0, 50117.0, 37127.0, 54110.0, 20998.0, 124589.0, 49840.0, 62137.0, 43799.0, 47567.0, 19745.0, 43906.0, 52620.0, 147859.0, 124700.0, 48403.0, 56675.0, 51254.0, 42193.0, 32539.0, 98860.0, 42760.0, 46096.0, 108132.0, 66648.0, 23961.0, 94105.0, 32400.0, 66765.0, 65189.0, 40099.0, 40096.0, 53899.0, 87483.0, 31840.0, 30791.0, 39548.0, 26277.0, 19695.0, 64822.0, 78297.0, 46338.0, 46953.0, 24448.0, 72555.0, 42422.0, 47335.0, 54719.0, 35833.0, 40014.0, 50336.0, 67102.0, 45355.0, 112091.0, 72839.0, 124095.0, 62069.0, 39385.0, 57454.0, 60166.0, 40078.0, 31546.0, 52457.0, 72363.0, 98296.0, 71508.0, 151851.0, 22138.0, 90508.0, 38111.0, 75754.0, 79136.0, 23756.0, 12215.0, 71244.0, 98856.0, 88432.0, 58727.0, 111590.0, 68208.0, 26501.0, 56710.0, 43101.0, 60021.0, 27759.0, 57976.0, 87745.0, 33707.0, 88305.0, 75032.0, 71170.0, 63011.0, 44698.0, 60059.0, 78773.0, 110732.0, 27980.0, 50070.0, 86929.0, 46400.0, 41291.0, 46599.0, 48316.0, 78376.0, 16220.0, 82518.0, 19546.0, 84889.0, 67092.0, 61042.0, 97194.0, 19667.0, 26469.0, 30614.0, 36772.0, 106080.0, 55057.0, 11947.0, 99578.0, 22393.0, 62289.0, 22359.0, 9172.0, 132747.0, 75800.0, 67411.0, 102379.0, 68085.0, 108203.0, 57737.0, 67234.0, 54024.0, 66800.0, 68060.0, 28333.0, 50323.0, 132688.0, 58572.0, 37047.0, 23536.0, 86481.0, 66430.0, 16969.0, 62648.0, 56808.0, 32537.0, 80214.0, 32629.0, 45822.0, 26576.0, 15010.0, 131360.0, 40917.0, 105254.0, 79575.0, 28660.0, 50388.0, 25609.0, 94152.0, 70714.0, 112807.0, 46308.0, 52850.0, 79021.0, 73665.0, 58029.0, 20817.0, 50360.0, 132527.0, 23548.0, 15956.0, 20724.0, 26633.0, 6669.0, 81809.0, 14936.0, 13263.0, 22627.0, 117484.0, 73107.0, 89407.0, 66154.0, 80376.0, 63815.0, 67488.0, 38429.0, 95359.0, 55661.0, 36676.0, 51173.0, 25004.0, 91066.0, 11134.0, 19838.0, 71576.0, 77341.0, 109211.0, 58708.0, 57901.0, 48679.0, 132563.0, 86069.0, 56845.0, 86314.0, 27925.0, 37854.0, 11836.0, 34668.0, 82780.0, 44658.0, 73599.0, 82715.0, 63084.0, 31441.0, 111776.0, 54297.0, 67081.0, 29823.0, 44874.0, 36207.0, 93525.0, 72126.0, 57855.0, 65880.0, 34793.0, 23143.0, 48020.0, 36530.0, 43563.0, 39074.0, 16029.0, 60405.0, 15613.0, 6656.0, 14697.0, 73543.0, 47511.0, 22311.0, 23046.0, 47722.0, 80798.0, 54146.0, 70294.0, 57448.0, 51463.0, 72559.0, 78838.0, 69139.0, 57379.0, 109101.0, 38921.0, 101993.0, 64220.0, 62786.0, 74546.0, 38210.0, 51065.0, 53699.0, 58386.0, 20321.0, 33406.0, 30962.0, 85618.0, 30872.0, 70669.0, 65858.0, 32606.0, 24230.0, 71332.0, 27730.0, 73072.0, 29025.0, 68194.0, 29688.0, 79188.0, 46604.0, 109164.0, 60608.0, 55774.0, 121577.0, 45038.0, 63934.0, 73140.0, 58556.0, 83304.0, 60660.0, 37004.0, 113854.0, 18354.0, 73724.0, 68506.0, 17222.0, 46871.0, 18102.0, 96690.0, 58405.0, 66912.0, 74219.0, 44176.0, 21747.0, 132445.0, 17651.0, 105221.0, 102646.0, 52668.0, 35440.0, 95600.0, 64720.0, 31149.0, 81407.0, 100448.0, 43977.0, 30433.0, 82697.0, 17187.0, 16944.0, 52333.0, 86740.0, 61259.0, 55140.0, 52202.0, 169472.0, 76279.0, 66998.0, 39635.0, 50390.0, 18036.0, 61223.0, 80305.0, 84435.0, 52868.0, 51564.0, 56208.0, 70069.0, 61275.0, 17692.0, 23958.0, 67282.0, 36576.0, 19193.0, 61414.0, 47717.0, 84294.0, 17873.0, 29345.0, 47881.0, 117222.0, 29500.0, 87946.0, 62389.0, 47278.0, 64410.0, 82272.0, 17094.0, 11946.0, 81638.0, 37757.0, 8873.0, 54400.0, 18417.0, 77133.0, 70912.0, 46342.0, 16196.0, 118736.0, 33463.0, 19881.0, 70417.0, 79771.0, 9501.0, 131643.0, 21128.0, 25115.0, 133696.0, 87238.0, 12832.0, 12126.0, 28017.0, 89974.0, 83993.0, 30664.0, 70064.0, 87550.0, 107863.0, 107145.0, 24308.0, 39739.0, 30087.0, 83694.0, 75731.0, 40768.0, 55053.0, 165784.0, 23082.0, 32325.0, 30587.0, 92323.0, 44168.0, 50100.0, 63031.0, 53777.0, 24327.0, 67475.0, 20823.0, 101210.0, 50142.0, 54862.0, 61196.0, 41746.0, 36745.0, 13927.0, 75369.0, 36716.0, 46382.0, 54895.0, 58973.0, 48370.0, 68566.0, 64636.0, 74017.0, 46287.0, 122090.0, 64903.0, 22394.0, 125222.0, 164954.0, 50246.0, 63173.0, 76212.0, 68057.0, 25424.0, 97116.0, 65561.0, 16493.0, 69443.0, 46265.0, 46276.0, 142327.0, 59153.0, 88563.0, 63547.0, 41936.0, 25024.0, 61351.0, 34042.0, 10810.0, 104827.0, 68376.0, 71096.0, 92018.0, 36143.0, 35883.0, 18512.0, 65093.0, 30783.0, 91323.0, 124329.0, 132959.0, 89249.0, 11203.0, 41191.0, 24826.0, 72073.0, 70966.0, 24224.0, 116956.0, 34653.0, 35281.0, 72098.0, 115364.0, 53211.0, 37572.0, 48133.0, 75241.0, 70232.0, 57806.0, 107204.0, 61158.0, 73138.0, 71152.0, 71041.0, 34147.0, 37264.0, 58323.0, 77344.0, 32093.0, 16583.0, 12535.0, 64807.0, 40994.0, 67500.0, 40296.0, 40966.0, 83837.0, 28355.0, 28585.0, 100076.0, 48644.0, 38219.0, 41858.0, 63518.0, 27355.0, 59672.0, 32149.0, 91022.0, 87059.0, 46827.0, 120137.0, 37922.0, 102264.0, 14140.0, 99224.0, 11374.0, 10104.0, 72603.0, 74372.0, 98474.0, 65417.0, 86280.0, 67910.0, 27837.0, 73731.0, 26715.0, 53485.0, 21571.0, 74675.0, 58080.0, 11568.0, 41504.0, 59827.0, 58599.0, 68180.0, 121304.0, 23522.0, 46417.0, 46033.0, 86584.0, 157797.0, 31124.0, 89578.0, 66862.0, 13763.0, 17648.0, 73087.0, 52638.0, 68398.0, 70137.0, 31005.0, 54613.0, 80944.0, 150276.0, 63893.0, 35483.0, 124126.0, 36990.0, 34421.0, 23921.0, 60278.0, 40413.0, 35301.0, 97236.0, 85325.0, 26858.0, 41261.0, 116478.0, 16650.0, 58532.0, 35158.0, 41325.0, 49516.0, 40864.0, 57073.0, 50320.0, 62214.0, 66013.0, 48895.0, 31646.0, 35368.0, 23753.0, 32032.0, 166669.0, 84401.0, 27840.0, 63627.0, 53823.0, 66417.0, 89564.0, 75397.0, 74064.0, 15485.0, 8764.0, 29379.0, 64082.0, 86955.0, 19811.0, 50692.0, 51178.0, 59443.0, 153775.0, 23378.0, 12352.0, 146542.0, 50861.0, 34709.0, 104252.0, 96017.0, 44536.0, 80419.0, 42203.0, 17082.0, 16587.0, 20934.0, 12248.0, 30660.0, 40186.0, 70504.0, 36677.0, 50333.0, 90507.0, 44612.0, 129828.0, 49684.0, 42920.0, 58407.0, 60542.0, 107666.0, 74456.0, 32001.0, 54715.0, 20454.0, 153553.0, 24047.0, 65193.0, 144463.0, 44366.0, 60091.0, 14546.0, 11078.0, 24187.0, 38930.0, 51982.0, 107413.0, 38316.0, 52773.0, 11956.0, 20826.0, 32215.0, 153133.0, 78388.0, 110098.0, 69961.0, 31006.0, 13562.0, 22335.0, 89262.0, 50723.0, 30409.0, 62010.0, 17650.0, 72793.0, 21653.0, 39701.0, 74531.0, 80598.0, 19924.0, 65156.0, 44725.0, 52238.0, 134420.0, 70835.0, 84545.0, 61041.0, 67524.0, 54545.0, 42099.0, 58512.0, 22159.0, 41288.0, 93278.0, 54400.0, 42752.0, 65328.0, 43661.0, 65054.0, 65934.0, 70058.0, 120040.0, 73405.0, 50772.0, 64399.0, 39269.0, 62391.0, 11211.0, 28895.0, 37898.0, 114789.0, 45057.0, 45116.0, 46057.0, 9951.0, 25382.0, 68760.0, 75989.0, 37188.0, 48467.0, 69929.0, 64403.0, 90112.0, 94284.0, 67152.0, 100357.0, 51170.0, 44253.0, 46764.0, 32940.0, 54696.0, 154852.0, 58516.0, 36385.0, 66856.0, 57459.0, 120164.0, 133391.0, 126559.0, 95706.0, 9721.0, 61362.0, 19227.0, 21288.0, 21306.0, 60657.0, 41674.0, 40750.0, 67691.0, 40599.0, 58440.0, 18869.0, 20225.0, 18030.0, 16612.0, 46059.0, 75136.0, 66674.0, 55270.0, 37346.0, 99298.0, 110246.0, 29727.0, 18784.0, 52485.0, 168946.0, 52212.0, 48754.0, 76676.0, 65147.0, 87003.0, 99587.0, 78656.0, 21340.0, 35074.0, 19975.0, 67698.0, 51952.0, 53735.0, 25406.0, 32469.0, 68858.0, 146272.0, 99607.0, 81372.0, 99686.0, 62914.0, 39036.0, 92194.0, 70689.0, 61794.0, 92030.0, 103519.0, 63755.0, 105908.0, 40435.0, 41569.0, 27300.0, 57143.0, 43160.0, 42140.0, 89648.0, 65042.0, 51985.0, 57086.0, 51952.0, 16792.0, 54990.0, 79136.0, 98787.0, 58409.0, 55668.0, 39755.0, 31743.0, 40051.0, 63876.0, 83385.0, 107110.0, 19024.0, 93749.0, 104513.0, 79707.0, 33330.0, 76242.0, 101289.0, 43160.0, 120351.0, 56357.0, 54962.0, 34220.0, 27225.0, 41370.0, 57252.0, 71991.0, 106940.0, 47421.0, 127528.0, 75578.0, 75555.0, 64252.0, 62090.0, 46976.0, 101463.0, 43135.0, 58890.0, 31051.0, 64569.0, 129088.0, 74271.0, 35456.0, 69478.0, 55819.0, 83878.0, 10681.0, 60756.0, 72459.0, 80791.0, 64233.0, 46957.0, 68308.0, 25274.0, 83928.0, 36000.0, 57863.0, 30285.0, 76111.0, 62334.0, 81592.0, 39707.0, 41746.0, 59144.0, 39654.0, 77176.0, 46807.0, 12484.0, 15487.0, 32958.0, 66874.0, 40426.0, 122561.0, 22677.0, 62077.0, 74096.0, 113914.0, 33568.0, 56479.0, 51541.0, 48897.0, 62813.0, 50953.0, 45696.0, 56635.0, 22900.0, 43055.0, 62630.0, 66231.0, 73693.0, 71464.0, 72808.0, 54697.0, 59576.0, 65581.0, 46153.0, 43863.0, 49730.0, 113062.0, 118247.0, 48097.0, 67860.0, 82610.0, 23574.0, 16426.0, 16480.0, 69632.0, 17624.0, 65574.0, 54510.0, 60711.0, 74823.0, 57379.0, 88909.0, 58885.0, 54066.0, 39202.0, 70966.0, 20805.0, 69253.0, 118567.0, 98625.0, 32534.0, 16483.0, 71485.0, 31880.0, 11756.0, 66165.0, 23523.0, 43074.0, 77268.0, 42219.0, 84170.0, 39495.0, 78541.0, 40458.0, 48532.0, 23040.0, 124219.0, 55662.0, 90546.0, 43899.0, 81328.0, 74864.0, 40537.0, 60492.0, 43639.0, 53592.0, 100071.0, 36730.0, 26825.0, 60208.0, 87474.0, 38912.0, 25423.0, 143049.0, 64106.0, 29151.0, 110814.0, 78030.0, 30404.0, 145621.0, 37060.0, 66597.0, 43378.0, 60322.0, 65189.0, 67014.0]\n",
      "[]\n"
     ]
    }
   ],
   "source": [
    "data_rows = []\n",
    "data_non=[]\n",
    "for index, row in excel_data_Tunisair.iterrows():\n",
    "    Airport_Code_Arr = row['Arrival_Station']\n",
    "    ID_Flight = row['Flight_ID']\n",
    "    nb_passengers_Economy = row['Passengers_Number_economy']\n",
    "    nb_passengers_PremEconomy = row['Passengers_Number_PREMeconomy']\n",
    "    nb_passengers_Business = row['Passengers_Number_Business']\n",
    "    nb_passengers_FirstClass = row['Passengers_Number_FirstClass']\n",
    "    result=get_price(Airport_Code_Arr)\n",
    "    if result:\n",
    "        Flight_Income_Test = (nb_passengers_Economy * result['Economy_Price'] +\n",
    "                            nb_passengers_PremEconomy * result['PremEconomy_Price'] +\n",
    "                            nb_passengers_Business * result['Business_Price'] +\n",
    "                            nb_passengers_FirstClass * result['FirstClass_Price'])\n",
    "        data_rows.append(Flight_Income)\n",
    "    else:\n",
    "        data_non.append(ID_Flight)\n",
    "print(data_rows)\n",
    "print(data_non)"
   ]
  },
  {
   "cell_type": "code",
   "execution_count": 225,
   "metadata": {},
   "outputs": [
    {
     "name": "stdout",
     "output_type": "stream",
     "text": [
      "Les Données  sont  insérées avec succès dans la table Fait flight !\n"
     ]
    }
   ],
   "source": [
    "import mysql.connector\n",
    "import pandas as pd\n",
    "\n",
    "# insérer les données du fichier excel Type_Vols dans la table Flight_features\n",
    "cursor = conn.cursor()\n",
    "        \n",
    "# Préparer la requête SQL d'insertion\n",
    "insert_query = \"\"\"\n",
    "    INSERT INTO flight(ID_Flight, Airport_Code_Dep, Airport_Code_Arr, ID_Date, ID_FlightType, Delay_Minute, nb_passengers_Economy, nb_passengers_PremEconomy, nb_passengers_Business, nb_passengers_FirstClass, nb_passengers_Flight, Flight_Income)\n",
    "    VALUES (%s, %s, %s, %s, %s, %s, %s, %s, %s, %s, %s, %s);\n",
    "        \"\"\"\n",
    "\n",
    "# Préparer les données pour la requête\n",
    "for index, row in excel_data_Tunisair.iterrows():\n",
    "    # Récupérer les valeurs des colonnes du fichier Excel\n",
    "    ID_Flight = row['Flight_ID']\n",
    "    Airport_Code_Dep = row['Departure_Station']\n",
    "    Airport_Code_Arr = row['Arrival_Station']\n",
    "    ID_Date = row['Date']\n",
    "    ID_FlightType = row['ID_FlightType']\n",
    "    Delay_Minute = row['Delay_Minute']\n",
    "    nb_passengers_Economy = row['Passengers_Number_economy']\n",
    "    nb_passengers_PremEconomy = row['Passengers_Number_PREMeconomy']\n",
    "    nb_passengers_Business = row['Passengers_Number_Business']\n",
    "    nb_passengers_FirstClass = row['Passengers_Number_FirstClass']\n",
    "\n",
    "    nb_passengers = nb_passengers_Economy + nb_passengers_PremEconomy + nb_passengers_Business + nb_passengers_FirstClass\n",
    "    result=get_price(Airport_Code_Arr)\n",
    "    if result:\n",
    "        Flight_Income = (nb_passengers_Economy * result['Economy_Price'] +\n",
    "                            nb_passengers_PremEconomy * result['PremEconomy_Price'] +\n",
    "                            nb_passengers_Business * result['Business_Price'] +\n",
    "                            nb_passengers_FirstClass * result['FirstClass_Price'])\n",
    "    \n",
    "    data = (ID_Flight, Airport_Code_Dep, Airport_Code_Arr, ID_Date, ID_FlightType, Delay_Minute,\n",
    "            nb_passengers_Economy, nb_passengers_PremEconomy, nb_passengers_Business, nb_passengers_FirstClass,\n",
    "            nb_passengers, Flight_Income)\n",
    "    \n",
    "    # Exécuter la requête d'insertion\n",
    "    cursor.execute(insert_query, data)\n",
    "\n",
    "# Commit pour valider les changements\n",
    "conn.commit()\n",
    "print(f\"Les Données  sont  insérées avec succès dans la table Fait flight !\")"
   ]
  },
  {
   "cell_type": "code",
   "execution_count": 206,
   "metadata": {},
   "outputs": [],
   "source": [
    "conn.close()"
   ]
  },
  {
   "cell_type": "code",
   "execution_count": null,
   "metadata": {},
   "outputs": [],
   "source": []
  }
 ],
 "metadata": {
  "kernelspec": {
   "display_name": "Python 3",
   "language": "python",
   "name": "python3"
  },
  "language_info": {
   "codemirror_mode": {
    "name": "ipython",
    "version": 3
   },
   "file_extension": ".py",
   "mimetype": "text/x-python",
   "name": "python",
   "nbconvert_exporter": "python",
   "pygments_lexer": "ipython3",
   "version": "3.13.0"
  }
 },
 "nbformat": 4,
 "nbformat_minor": 2
}
